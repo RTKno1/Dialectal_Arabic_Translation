{
  "nbformat": 4,
  "nbformat_minor": 0,
  "metadata": {
    "kernelspec": {
      "display_name": "Python [conda env:fastai] *",
      "language": "python",
      "name": "conda-env-fastai-py"
    },
    "language_info": {
      "codemirror_mode": {
        "name": "ipython",
        "version": 3
      },
      "file_extension": ".py",
      "mimetype": "text/x-python",
      "name": "python",
      "nbconvert_exporter": "python",
      "pygments_lexer": "ipython3",
      "version": "3.7.7"
    },
    "colab": {
      "name": "Model_1.ipynb",
      "provenance": []
    }
  },
  "cells": [
    {
      "cell_type": "markdown",
      "metadata": {
        "id": "BQflUKhjIKNp",
        "colab_type": "text"
      },
      "source": [
        "### Notes \n",
        "\n",
        "T5 Paper: https://arxiv.org/pdf/1910.10683.pdf\n",
        "\n",
        "T5 Tokenizer: https://github.com/huggingface/transformers/blob/master/src/transformers/tokenization_t5.py\n",
        "\n",
        "Important Tasks: https://docs.google.com/document/d/1weIZM6QTlnitpPQmpg-WeV2RW70TnYmDuogBQPr5mB0/edit"
      ]
    },
    {
      "cell_type": "code",
      "metadata": {
        "id": "-WzhRv4mIKNq",
        "colab_type": "code",
        "colab": {}
      },
      "source": [
        "#James Chartouni\n",
        "#Joey Park\n",
        "#Raef Khan\n",
        "\n",
        "import torch\n",
        "import pandas as pd\n",
        "import numpy as np\n",
        "import pickle\n",
        "\n",
        "#imports\n",
        "\n",
        "import torch.nn as nn\n",
        "from torch import optim\n",
        "import torch.nn.functional as F\n",
        "from torch.utils.data import DataLoader\n",
        "\n",
        "from torchtext.datasets.translation import TranslationDataset\n",
        "\n",
        "import sentencepiece as spm\n",
        "\n",
        "from transformers import T5Tokenizer, T5ForConditionalGeneration, T5Config\n"
      ],
      "execution_count": 0,
      "outputs": []
    },
    {
      "cell_type": "code",
      "metadata": {
        "id": "aha0xureIKNw",
        "colab_type": "code",
        "colab": {},
        "outputId": "ff7f2672-4076-489e-dc88-44dd7f7f4b11"
      },
      "source": [
        "ls data/AD_NMT-master"
      ],
      "execution_count": 0,
      "outputs": [
        {
          "output_type": "stream",
          "text": [
            "LAV-MSA-2-both.pkl        Magribi_MSA-test.pkl      english-Arabic-train.pkl\r\n",
            "LAV-MSA-2-test.pkl        Magribi_MSA-train.pkl     english-arabic-test.pkl\r\n",
            "LAV-MSA-2-train.pkl       README.md\r\n",
            "Magribi_MSA-both.pkl      english-Arabic-both.pkl\r\n"
          ],
          "name": "stdout"
        }
      ]
    },
    {
      "cell_type": "code",
      "metadata": {
        "id": "XWKnGRlLIKN9",
        "colab_type": "code",
        "colab": {}
      },
      "source": [
        "file_path = 'data/AD_NMT-master/'\n",
        "\n",
        "with open(file_path + \"english-Arabic-train.pkl\", 'rb') as handle:\n",
        "    train_ds = pickle.load(handle) \n",
        "    \n",
        "with open(file_path + \"english-Arabic-test.pkl\", 'rb') as handle:\n",
        "    test_ds = pickle.load(handle) \n",
        "    \n",
        "with open(file_path + \"LAV-MSA-2-both.pkl\", 'rb') as handle:\n",
        "    data_LAV_MSA = pickle.load(handle) \n",
        "\n",
        "with open(file_path + \"english-Arabic-both.pkl\", 'rb') as handle:\n",
        "    data_English_MSA = pickle.load(handle) \n",
        "    \n",
        "with open(file_path + \"Magribi_MSA-both.pkl\", 'rb') as handle:\n",
        "    data_Magribi_MSA = pickle.load(handle) \n",
        "    "
      ],
      "execution_count": 0,
      "outputs": []
    },
    {
      "cell_type": "code",
      "metadata": {
        "id": "Ch3APJadIKOH",
        "colab_type": "code",
        "colab": {},
        "outputId": "649b3625-701d-4369-ee8d-58f8c6c0afc2"
      },
      "source": [
        "print(train_ds[0:5])\n",
        "print(test_ds[0:5])"
      ],
      "execution_count": 0,
      "outputs": [
        {
          "output_type": "stream",
          "text": [
            "[['Tom was also there', 'كان توم هنا ايضا'], ['That old woman lives by herself', 'تلك المراة العجوز تسكن بمفردها'], ['He went abroad for the purpose of studying English', 'سافر خارج البلد ليتعلم الانجليزية'], ['There is a fork missing', 'هناك شوكة ناقصة'], [\"I don't know this game\", 'لا اعرف هذه اللعبة']]\n",
            "[[\"Where's your money?\", 'اين مالك؟'], ['Be prepared', 'كن مستعدا'], [\"I figured you'd be impressed\", 'توقعت انك ستنبهر'], ['May I come in?', 'هل بامكاني الدخول؟'], ['Read through the article', 'اقرا المقالة']]\n"
          ],
          "name": "stdout"
        }
      ]
    },
    {
      "cell_type": "markdown",
      "metadata": {
        "id": "irQQ9E_7IKOM",
        "colab_type": "text"
      },
      "source": [
        "## Prepare Datasets\n",
        "\n",
        "example: https://iwslt2010.fbk.eu/node/32/\n",
        "\n",
        "We need to take our training and test sets from the pkl files and create new .txt files that are formatted so that the standard torchtext Dataset class can read them"
      ]
    },
    {
      "cell_type": "markdown",
      "metadata": {
        "id": "ikpu9B5dIKON",
        "colab_type": "raw"
      },
      "source": [
        "Data format:\n",
        "each line consists of three fields divided by the character '\\'\n",
        "sentences consisting of words divided by single spaces\n",
        "format: <SENTENCE_ID>\\<PARAPHRASE_ID>\\<TEXT>\n",
        "Field_1: sentence ID\n",
        "Field_2: paraphrase ID\n",
        "Field_3: MT develop sentence / reference translation\n",
        "Text input example:\n",
        "DEV_001\\01\\This is the first develop sentence.\n",
        "DEV_002\\01\\This is the second develop sentence.\n",
        "Reference translation example:\n",
        "DEV_001\\01\\1st reference translation for 1st input\n",
        "DEV_001\\02\\2nd reference translation for 1st input\n",
        "...\n",
        "DEV_002\\01\\1st reference translation for 2nd input\n",
        "DEV_002\\02\\2nd reference translation for 2nd input\n",
        "...\n",
        "Languages:\n",
        "Arabic-English\n",
        "CSTAR03 testset: 506 sentences, 16 reference translations\n",
        "IWSLT04 testset: 500 sentences, 16 reference translations\n",
        "IWSLT05 testset: 506 sentences, 16 reference translations\n",
        "IWSLT07 testset: 489 sentences, 6 reference translations\n",
        "IWSLT08 testset: 507 sentences, 16 reference translations\n",
        "French-English\n",
        "CSTAR03 testset: 506 sentences, 16 reference translations\n",
        "IWSLT04 testset: 500 sentences, 16 reference translations\n",
        "IWSLT05 testset: 506 sentences, 16 reference translations\n",
        "Turkish-English\n",
        "CSTAR03 testset: 506 sentences, 16 reference translations\n",
        "IWSLT04 testset: 500 sentences, 16 reference translations\n"
      ]
    },
    {
      "cell_type": "code",
      "metadata": {
        "id": "h78xxepDIKOP",
        "colab_type": "code",
        "colab": {}
      },
      "source": [
        "file_path = 'data/AD_NMT-master/'"
      ],
      "execution_count": 0,
      "outputs": []
    },
    {
      "cell_type": "code",
      "metadata": {
        "id": "W3bWU46TIKOb",
        "colab_type": "code",
        "colab": {}
      },
      "source": [
        "print(\"this ia a test\")"
      ],
      "execution_count": 0,
      "outputs": []
    },
    {
      "cell_type": "code",
      "metadata": {
        "id": "6O-Qgg9iIKOj",
        "colab_type": "code",
        "colab": {}
      },
      "source": [
        ""
      ],
      "execution_count": 0,
      "outputs": []
    },
    {
      "cell_type": "code",
      "metadata": {
        "id": "u3klIa86IKOq",
        "colab_type": "code",
        "colab": {}
      },
      "source": [
        ""
      ],
      "execution_count": 0,
      "outputs": []
    },
    {
      "cell_type": "code",
      "metadata": {
        "id": "gPTHmTHbIKOx",
        "colab_type": "code",
        "colab": {}
      },
      "source": [
        ""
      ],
      "execution_count": 0,
      "outputs": []
    },
    {
      "cell_type": "markdown",
      "metadata": {
        "id": "lDPvs9zxIKO3",
        "colab_type": "text"
      },
      "source": [
        "## Build Vocabulary "
      ]
    },
    {
      "cell_type": "markdown",
      "metadata": {
        "id": "Ihevk2SWIKO5",
        "colab_type": "text"
      },
      "source": [
        "Sentence Piece Google Colab\n",
        "https://github.com/google/sentencepiece/blob/master/python/sentencepiece_python_module_example.ipynb"
      ]
    },
    {
      "cell_type": "code",
      "metadata": {
        "id": "dIsjMpt0IKO6",
        "colab_type": "code",
        "colab": {},
        "outputId": "8175255e-1437-4e95-f674-e94fb1334279"
      },
      "source": [
        "len(data_English_MSA)"
      ],
      "execution_count": 0,
      "outputs": [
        {
          "output_type": "execute_result",
          "data": {
            "text/plain": [
              "10001"
            ]
          },
          "metadata": {
            "tags": []
          },
          "execution_count": 6
        }
      ]
    },
    {
      "cell_type": "code",
      "metadata": {
        "id": "I25H3IsyIKPB",
        "colab_type": "code",
        "colab": {}
      },
      "source": [
        "\"\"\"\n",
        "Create a text file with all the MSA vocab available for SentencePiece to create a library \n",
        "\"\"\"\n",
        "\n",
        "text_file_en = open(\"data/english_data.txt\", \"wt\")\n",
        "text_file_msa = open(\"data/arabic_data.txt\", \"wt\")\n",
        "\n",
        "MSA_text = \"\"\n",
        "EN_text = \"\"\n",
        "\n",
        "for line in data_English_MSA:\n",
        "        english = line[0]\n",
        "        english_words = english.split(\" \")\n",
        "        for count, word in enumerate(english_words):\n",
        "            text_file_en.write(word)\n",
        "        text_file_en.write(\"\\n\")\n",
        "        \n",
        "        arabic = line[1]\n",
        "        arabic_words = arabic.split(\" \")\n",
        "        for count, word in enumerate(arabic_words):\n",
        "            text_file_msa.write(word)\n",
        "        text_file_msa.write(\"\\n\")\n",
        "\n",
        "\n",
        "text_file_en.close()\n",
        "text_file_msa.close()"
      ],
      "execution_count": 0,
      "outputs": []
    },
    {
      "cell_type": "code",
      "metadata": {
        "id": "Q0qG8N68IKPI",
        "colab_type": "code",
        "colab": {},
        "outputId": "6beb7bce-cdb4-47f7-cada-80f78e91d3f6"
      },
      "source": [
        "spm.SentencePieceTrainer.train('--input=data/arabic_data.txt --model_prefix=data/msa --vocab_size=2000')\n",
        "spm.SentencePieceTrainer.train('--input=data/english_data.txt --model_prefix=data/en --vocab_size=2000')"
      ],
      "execution_count": 0,
      "outputs": [
        {
          "output_type": "execute_result",
          "data": {
            "text/plain": [
              "True"
            ]
          },
          "metadata": {
            "tags": []
          },
          "execution_count": 12
        }
      ]
    },
    {
      "cell_type": "code",
      "metadata": {
        "id": "y05LILRSIKPN",
        "colab_type": "code",
        "colab": {},
        "outputId": "13457439-5d76-40d4-94bc-3a27a615c8ac"
      },
      "source": [
        "sp = spm.SentencePieceProcessor()\n",
        "sp.load('data/en.model')"
      ],
      "execution_count": 0,
      "outputs": [
        {
          "output_type": "execute_result",
          "data": {
            "text/plain": [
              "True"
            ]
          },
          "metadata": {
            "tags": []
          },
          "execution_count": 14
        }
      ]
    },
    {
      "cell_type": "code",
      "metadata": {
        "id": "JyJm_doVIKPT",
        "colab_type": "code",
        "colab": {},
        "outputId": "d4539a9c-ee6e-436f-f067-f87028ecb3e5"
      },
      "source": [
        "ls"
      ],
      "execution_count": 0,
      "outputs": [
        {
          "output_type": "stream",
          "text": [
            "Env_Setup_Instructions.txt  \u001b[34mdata\u001b[m\u001b[m/\r\n",
            "Model_1.ipynb               \u001b[34mtransformers\u001b[m\u001b[m/\r\n",
            "README.md\r\n"
          ],
          "name": "stdout"
        }
      ]
    },
    {
      "cell_type": "code",
      "metadata": {
        "id": "Egx5FaOsIKPW",
        "colab_type": "code",
        "colab": {},
        "outputId": "9bc7b773-7e9c-4b65-9ba5-f569b30f00f2"
      },
      "source": [
        "print(sp.encode_as_pieces('This is a test'))\n",
        "print(sp.encode_as_ids('This is a test'))"
      ],
      "execution_count": 0,
      "outputs": [
        {
          "output_type": "stream",
          "text": [
            "['▁This', '▁', 'is', '▁', 'a', '▁', 't', 'est']\n",
            "[89, 83, 12, 83, 8, 83, 6, 309]\n"
          ],
          "name": "stdout"
        }
      ]
    },
    {
      "cell_type": "markdown",
      "metadata": {
        "id": "0uDxsOI4IKPd",
        "colab_type": "text"
      },
      "source": [
        "## TF Tokenizer\n",
        "\n",
        "https://huggingface.co/transformers/model_doc/t5.html#t5tokenizer"
      ]
    },
    {
      "cell_type": "code",
      "metadata": {
        "id": "zDuf6tVBIKPe",
        "colab_type": "code",
        "colab": {},
        "outputId": "9aebea72-8ccc-4edf-a1c8-11a9ad1fe553"
      },
      "source": [
        "ls data/"
      ],
      "execution_count": 0,
      "outputs": [
        {
          "output_type": "stream",
          "text": [
            "\u001b[34mAD_NMT-master\u001b[m\u001b[m/\r\n",
            "AD_NMT-master.zip\r\n",
            "PADIC.xml\r\n",
            "UNv1.0.ar-en.tar.gz.00\r\n",
            "UNv1.0.ar-en.tar.gz.01\r\n",
            "arabic-to-english-translation-sentences.zip\r\n",
            "arabic_data.txt\r\n",
            "en.model\r\n",
            "en.vocab\r\n",
            "english_data.txt\r\n",
            "msa.model\r\n",
            "msa.vocab\r\n"
          ],
          "name": "stdout"
        }
      ]
    },
    {
      "cell_type": "code",
      "metadata": {
        "id": "LH26oj-KIKPl",
        "colab_type": "code",
        "colab": {}
      },
      "source": [
        "msa_tokenizer = T5Tokenizer(\"data/msa.model\")\n",
        "en_tokenizer = T5Tokenizer(\"data/en.model\")"
      ],
      "execution_count": 0,
      "outputs": []
    },
    {
      "cell_type": "code",
      "metadata": {
        "id": "txeYu0e0IKPs",
        "colab_type": "code",
        "colab": {}
      },
      "source": [
        "input_ids = msa_tokenizer.encode('هل بامكاني الدخول؟ </s>', return_tensors='pt')"
      ],
      "execution_count": 0,
      "outputs": []
    },
    {
      "cell_type": "code",
      "metadata": {
        "id": "D7IuJeL0IKPx",
        "colab_type": "code",
        "colab": {},
        "outputId": "eea8683d-560e-4637-ca11-2e6f6524a3e4"
      },
      "source": [
        "input_ids"
      ],
      "execution_count": 0,
      "outputs": [
        {
          "output_type": "execute_result",
          "data": {
            "text/plain": [
              "tensor([[ 41,   4, 330,   6,  93, 964,   8,   4,   2]])"
            ]
          },
          "metadata": {
            "tags": []
          },
          "execution_count": 20
        }
      ]
    },
    {
      "cell_type": "markdown",
      "metadata": {
        "id": "UuAey7jyIKP1",
        "colab_type": "text"
      },
      "source": [
        "## Pytorch Data Set and Data Loader\n",
        "\n",
        "https://github.com/google-research/text-to-text-transfer-transformer\n",
        "\n",
        "pytorch dataset: https://pytorch.org/text/_modules/torchtext/datasets/translation.html\n",
        "\n",
        "pytorch dataset documentation: https://torchtext.readthedocs.io/en/latest/datasets.html#iwslt\n",
        "\n",
        "example dataset: https://iwslt2010.fbk.eu/node/32/"
      ]
    },
    {
      "cell_type": "code",
      "metadata": {
        "id": "UHwoWUPtIKP2",
        "colab_type": "code",
        "colab": {},
        "outputId": "5c84e674-46df-4032-fd89-1dd1460565a6"
      },
      "source": [
        "dataset = TranslationDataset(path=['data/arabic_data.txt', 'data/english_data.txt'], exts=(), fields=())"
      ],
      "execution_count": 0,
      "outputs": [
        {
          "output_type": "error",
          "ename": "IndexError",
          "evalue": "tuple index out of range",
          "traceback": [
            "\u001b[0;31m---------------------------------------------------------------------------\u001b[0m",
            "\u001b[0;31mIndexError\u001b[0m                                Traceback (most recent call last)",
            "\u001b[0;32m<ipython-input-25-8311c072c41a>\u001b[0m in \u001b[0;36m<module>\u001b[0;34m\u001b[0m\n\u001b[0;32m----> 1\u001b[0;31m \u001b[0mdataset\u001b[0m \u001b[0;34m=\u001b[0m \u001b[0mTranslationDataset\u001b[0m\u001b[0;34m(\u001b[0m\u001b[0mpath\u001b[0m\u001b[0;34m=\u001b[0m\u001b[0;34m[\u001b[0m\u001b[0;34m'data/arabic_data.txt'\u001b[0m\u001b[0;34m,\u001b[0m \u001b[0;34m'data/english_data.txt'\u001b[0m\u001b[0;34m]\u001b[0m\u001b[0;34m,\u001b[0m \u001b[0mexts\u001b[0m\u001b[0;34m=\u001b[0m\u001b[0;34m(\u001b[0m\u001b[0;34m)\u001b[0m\u001b[0;34m,\u001b[0m \u001b[0mfields\u001b[0m\u001b[0;34m=\u001b[0m\u001b[0;34m(\u001b[0m\u001b[0;34m)\u001b[0m\u001b[0;34m)\u001b[0m\u001b[0;34m\u001b[0m\u001b[0;34m\u001b[0m\u001b[0m\n\u001b[0m",
            "\u001b[0;32m~/anaconda/envs/fastai/lib/python3.7/site-packages/torchtext/datasets/translation.py\u001b[0m in \u001b[0;36m__init__\u001b[0;34m(self, path, exts, fields, **kwargs)\u001b[0m\n\u001b[1;32m     26\u001b[0m                 \u001b[0mdata\u001b[0m\u001b[0;34m.\u001b[0m\u001b[0mDataset\u001b[0m\u001b[0;34m.\u001b[0m\u001b[0;34m\u001b[0m\u001b[0;34m\u001b[0m\u001b[0m\n\u001b[1;32m     27\u001b[0m         \"\"\"\n\u001b[0;32m---> 28\u001b[0;31m         \u001b[0;32mif\u001b[0m \u001b[0;32mnot\u001b[0m \u001b[0misinstance\u001b[0m\u001b[0;34m(\u001b[0m\u001b[0mfields\u001b[0m\u001b[0;34m[\u001b[0m\u001b[0;36m0\u001b[0m\u001b[0;34m]\u001b[0m\u001b[0;34m,\u001b[0m \u001b[0;34m(\u001b[0m\u001b[0mtuple\u001b[0m\u001b[0;34m,\u001b[0m \u001b[0mlist\u001b[0m\u001b[0;34m)\u001b[0m\u001b[0;34m)\u001b[0m\u001b[0;34m:\u001b[0m\u001b[0;34m\u001b[0m\u001b[0;34m\u001b[0m\u001b[0m\n\u001b[0m\u001b[1;32m     29\u001b[0m             \u001b[0mfields\u001b[0m \u001b[0;34m=\u001b[0m \u001b[0;34m[\u001b[0m\u001b[0;34m(\u001b[0m\u001b[0;34m'src'\u001b[0m\u001b[0;34m,\u001b[0m \u001b[0mfields\u001b[0m\u001b[0;34m[\u001b[0m\u001b[0;36m0\u001b[0m\u001b[0;34m]\u001b[0m\u001b[0;34m)\u001b[0m\u001b[0;34m,\u001b[0m \u001b[0;34m(\u001b[0m\u001b[0;34m'trg'\u001b[0m\u001b[0;34m,\u001b[0m \u001b[0mfields\u001b[0m\u001b[0;34m[\u001b[0m\u001b[0;36m1\u001b[0m\u001b[0;34m]\u001b[0m\u001b[0;34m)\u001b[0m\u001b[0;34m]\u001b[0m\u001b[0;34m\u001b[0m\u001b[0;34m\u001b[0m\u001b[0m\n\u001b[1;32m     30\u001b[0m \u001b[0;34m\u001b[0m\u001b[0m\n",
            "\u001b[0;31mIndexError\u001b[0m: tuple index out of range"
          ]
        }
      ]
    },
    {
      "cell_type": "code",
      "metadata": {
        "id": "9mC0ECgwIKP_",
        "colab_type": "code",
        "colab": {}
      },
      "source": [
        ""
      ],
      "execution_count": 0,
      "outputs": []
    },
    {
      "cell_type": "code",
      "metadata": {
        "id": "BjZFUwO1IKQC",
        "colab_type": "code",
        "colab": {}
      },
      "source": [
        ""
      ],
      "execution_count": 0,
      "outputs": []
    },
    {
      "cell_type": "code",
      "metadata": {
        "id": "fVIqommkIKQF",
        "colab_type": "code",
        "colab": {}
      },
      "source": [
        ""
      ],
      "execution_count": 0,
      "outputs": []
    },
    {
      "cell_type": "code",
      "metadata": {
        "id": "Pps4KrlSIKQK",
        "colab_type": "code",
        "colab": {}
      },
      "source": [
        ""
      ],
      "execution_count": 0,
      "outputs": []
    },
    {
      "cell_type": "code",
      "metadata": {
        "id": "D86hmOgsIKQS",
        "colab_type": "code",
        "colab": {}
      },
      "source": [
        ""
      ],
      "execution_count": 0,
      "outputs": []
    },
    {
      "cell_type": "markdown",
      "metadata": {
        "id": "15gKWRTZIKQW",
        "colab_type": "text"
      },
      "source": [
        "## Model Training\n",
        "\n",
        "https://huggingface.co/transformers/model_doc/t5.html#training"
      ]
    },
    {
      "cell_type": "code",
      "metadata": {
        "id": "BZ8YmzO5IKQW",
        "colab_type": "code",
        "colab": {}
      },
      "source": [
        "configuration = T5Config()"
      ],
      "execution_count": 0,
      "outputs": []
    },
    {
      "cell_type": "code",
      "metadata": {
        "id": "4xt_iDQ4IKQa",
        "colab_type": "code",
        "colab": {}
      },
      "source": [
        "model = T5Model.from_pretrained('t5-base')"
      ],
      "execution_count": 0,
      "outputs": []
    },
    {
      "cell_type": "code",
      "metadata": {
        "id": "d7-lLK_xIKQi",
        "colab_type": "code",
        "colab": {}
      },
      "source": [
        ""
      ],
      "execution_count": 0,
      "outputs": []
    },
    {
      "cell_type": "code",
      "metadata": {
        "id": "_0cY8-SJIKQm",
        "colab_type": "code",
        "colab": {}
      },
      "source": [
        ""
      ],
      "execution_count": 0,
      "outputs": []
    },
    {
      "cell_type": "code",
      "metadata": {
        "id": "8LNdhAYVIKQr",
        "colab_type": "code",
        "colab": {}
      },
      "source": [
        ""
      ],
      "execution_count": 0,
      "outputs": []
    },
    {
      "cell_type": "code",
      "metadata": {
        "id": "eR7FtyRtIKQw",
        "colab_type": "code",
        "colab": {}
      },
      "source": [
        ""
      ],
      "execution_count": 0,
      "outputs": []
    },
    {
      "cell_type": "markdown",
      "metadata": {
        "id": "mPFePDoUIKQ1",
        "colab_type": "text"
      },
      "source": [
        "## Model Inference\n",
        "\n",
        "https://github.com/huggingface/transformers/blob/master/examples/translation/t5/evaluate_wmt.py"
      ]
    },
    {
      "cell_type": "code",
      "metadata": {
        "id": "hMW3IMHqIKQ1",
        "colab_type": "code",
        "colab": {}
      },
      "source": [
        ""
      ],
      "execution_count": 0,
      "outputs": []
    },
    {
      "cell_type": "code",
      "metadata": {
        "id": "_ZBVu6R9IKQ4",
        "colab_type": "code",
        "colab": {}
      },
      "source": [
        ""
      ],
      "execution_count": 0,
      "outputs": []
    }
  ]
}