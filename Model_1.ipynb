{
  "nbformat": 4,
  "nbformat_minor": 0,
  "metadata": {
    "colab": {
      "name": "Model_1.ipynb",
      "provenance": [],
      "machine_shape": "hm"
    },
    "kernelspec": {
      "name": "python3",
      "display_name": "Python 3"
    },
    "accelerator": "GPU"
  },
  "cells": [
    {
      "cell_type": "markdown",
      "metadata": {
        "colab_type": "text",
        "id": "BQflUKhjIKNp"
      },
      "source": [
        "### Notes \n",
        "\n",
        "T5 Paper: https://arxiv.org/pdf/1910.10683.pdf\n",
        "\n",
        "T5 Tokenizer: https://github.com/huggingface/transformers/blob/master/src/transformers/tokenization_t5.py\n",
        "\n",
        "Important Tasks: https://docs.google.com/document/d/1weIZM6QTlnitpPQmpg-WeV2RW70TnYmDuogBQPr5mB0/edit"
      ]
    },
    {
      "cell_type": "code",
      "metadata": {
        "id": "XLOmiOta6MJp",
        "colab_type": "code",
        "colab": {
          "base_uri": "https://localhost:8080/",
          "height": 1000
        },
        "outputId": "ba7d5141-c70a-40d5-fb38-a30ec10d6354"
      },
      "source": [
        "#installation step\n",
        "!pip install transformers\n",
        "!pip install t5\n",
        "!pip install sentencepiece\n",
        "#creating the folders \n",
        "!mkdir data/\n",
        "!mkdir data/AD_NMT-master\n",
        "!mkdir data/train/\n",
        "!mkdir data/test/\n",
        "!mkdir data/val/\n",
        "!mkdir data/model/\n",
        "!mkdir data/config/\n",
        "#fetching the pkl files\n",
        "!wget --no-check-certificate 'https://docs.google.com/uc?export=download&id=1V9crCmqvgQcv0Sx2MCNWB9AET2j6M6FW' -O data/AD_NMT-master/english-Arabic-both.pkl\n",
        "!wget --no-check-certificate 'https://docs.google.com/uc?export=download&id=1UzL4cOWTMCee83KBUh2QO_H62AFVpDQV' -O data/AD_NMT-master/LAV-MSA-2-both.pkl\n",
        "!wget --no-check-certificate 'https://docs.google.com/uc?export=download&id=1UjDX7cCG2S23SPfSHxSPdVayMTxB5Y16' -O data/AD_NMT-master/Magribi_MSA-both.pkl\n",
        "!wget --no-check-certificate 'https://docs.google.com/uc?export=download&id=1fEVj9jCxvcKn9zg8lO43i2sWZquegg5H' -O data/operative_config.gin\n",
        "!wget --no-check-certificate 'https://docs.google.com/uc?export=download&id=1UGKswXSqHSxWpx57cEDzvNeJaqbAuyt8' -O data/padic.xml"
      ],
      "execution_count": 1,
      "outputs": [
        {
          "output_type": "stream",
          "text": [
            "Collecting transformers\n",
            "\u001b[?25l  Downloading https://files.pythonhosted.org/packages/48/35/ad2c5b1b8f99feaaf9d7cdadaeef261f098c6e1a6a2935d4d07662a6b780/transformers-2.11.0-py3-none-any.whl (674kB)\n",
            "\u001b[K     |████████████████████████████████| 675kB 2.7MB/s \n",
            "\u001b[?25hRequirement already satisfied: filelock in /usr/local/lib/python3.6/dist-packages (from transformers) (3.0.12)\n",
            "Requirement already satisfied: tqdm>=4.27 in /usr/local/lib/python3.6/dist-packages (from transformers) (4.41.1)\n",
            "Requirement already satisfied: dataclasses; python_version < \"3.7\" in /usr/local/lib/python3.6/dist-packages (from transformers) (0.7)\n",
            "Requirement already satisfied: requests in /usr/local/lib/python3.6/dist-packages (from transformers) (2.23.0)\n",
            "Requirement already satisfied: regex!=2019.12.17 in /usr/local/lib/python3.6/dist-packages (from transformers) (2019.12.20)\n",
            "Collecting sacremoses\n",
            "\u001b[?25l  Downloading https://files.pythonhosted.org/packages/7d/34/09d19aff26edcc8eb2a01bed8e98f13a1537005d31e95233fd48216eed10/sacremoses-0.0.43.tar.gz (883kB)\n",
            "\u001b[K     |████████████████████████████████| 890kB 8.4MB/s \n",
            "\u001b[?25hRequirement already satisfied: packaging in /usr/local/lib/python3.6/dist-packages (from transformers) (20.4)\n",
            "Collecting tokenizers==0.7.0\n",
            "\u001b[?25l  Downloading https://files.pythonhosted.org/packages/14/e5/a26eb4716523808bb0a799fcfdceb6ebf77a18169d9591b2f46a9adb87d9/tokenizers-0.7.0-cp36-cp36m-manylinux1_x86_64.whl (3.8MB)\n",
            "\u001b[K     |████████████████████████████████| 3.8MB 16.1MB/s \n",
            "\u001b[?25hRequirement already satisfied: numpy in /usr/local/lib/python3.6/dist-packages (from transformers) (1.18.5)\n",
            "Collecting sentencepiece\n",
            "\u001b[?25l  Downloading https://files.pythonhosted.org/packages/d4/a4/d0a884c4300004a78cca907a6ff9a5e9fe4f090f5d95ab341c53d28cbc58/sentencepiece-0.1.91-cp36-cp36m-manylinux1_x86_64.whl (1.1MB)\n",
            "\u001b[K     |████████████████████████████████| 1.1MB 35.3MB/s \n",
            "\u001b[?25hRequirement already satisfied: chardet<4,>=3.0.2 in /usr/local/lib/python3.6/dist-packages (from requests->transformers) (3.0.4)\n",
            "Requirement already satisfied: idna<3,>=2.5 in /usr/local/lib/python3.6/dist-packages (from requests->transformers) (2.9)\n",
            "Requirement already satisfied: urllib3!=1.25.0,!=1.25.1,<1.26,>=1.21.1 in /usr/local/lib/python3.6/dist-packages (from requests->transformers) (1.24.3)\n",
            "Requirement already satisfied: certifi>=2017.4.17 in /usr/local/lib/python3.6/dist-packages (from requests->transformers) (2020.4.5.2)\n",
            "Requirement already satisfied: six in /usr/local/lib/python3.6/dist-packages (from sacremoses->transformers) (1.12.0)\n",
            "Requirement already satisfied: click in /usr/local/lib/python3.6/dist-packages (from sacremoses->transformers) (7.1.2)\n",
            "Requirement already satisfied: joblib in /usr/local/lib/python3.6/dist-packages (from sacremoses->transformers) (0.15.1)\n",
            "Requirement already satisfied: pyparsing>=2.0.2 in /usr/local/lib/python3.6/dist-packages (from packaging->transformers) (2.4.7)\n",
            "Building wheels for collected packages: sacremoses\n",
            "  Building wheel for sacremoses (setup.py) ... \u001b[?25l\u001b[?25hdone\n",
            "  Created wheel for sacremoses: filename=sacremoses-0.0.43-cp36-none-any.whl size=893260 sha256=c1a99f1de3bc1b5ed7c93f0adc1a5664ecc95d1025bebcef6cf536caf8a14bb0\n",
            "  Stored in directory: /root/.cache/pip/wheels/29/3c/fd/7ce5c3f0666dab31a50123635e6fb5e19ceb42ce38d4e58f45\n",
            "Successfully built sacremoses\n",
            "Installing collected packages: sacremoses, tokenizers, sentencepiece, transformers\n",
            "Successfully installed sacremoses-0.0.43 sentencepiece-0.1.91 tokenizers-0.7.0 transformers-2.11.0\n",
            "Collecting t5\n",
            "\u001b[?25l  Downloading https://files.pythonhosted.org/packages/4e/55/cf4b9ad68873d28224ac9ca78bd30332b53b1f9f6c564ce8d3cc5358a0a8/t5-0.6.0-py3-none-any.whl (149kB)\n",
            "\u001b[K     |████████████████████████████████| 153kB 2.7MB/s \n",
            "\u001b[?25hRequirement already satisfied: babel in /usr/local/lib/python3.6/dist-packages (from t5) (2.8.0)\n",
            "Collecting rouge-score\n",
            "  Downloading https://files.pythonhosted.org/packages/1f/56/a81022436c08b9405a5247b71635394d44fe7e1dbedc4b28c740e09c2840/rouge_score-0.0.4-py2.py3-none-any.whl\n",
            "Requirement already satisfied: scipy in /usr/local/lib/python3.6/dist-packages (from t5) (1.4.1)\n",
            "Requirement already satisfied: numpy in /usr/local/lib/python3.6/dist-packages (from t5) (1.18.5)\n",
            "Requirement already satisfied: torch in /usr/local/lib/python3.6/dist-packages (from t5) (1.5.0+cu101)\n",
            "Requirement already satisfied: absl-py in /usr/local/lib/python3.6/dist-packages (from t5) (0.9.0)\n",
            "Requirement already satisfied: nltk in /usr/local/lib/python3.6/dist-packages (from t5) (3.2.5)\n",
            "Requirement already satisfied: scikit-learn in /usr/local/lib/python3.6/dist-packages (from t5) (0.22.2.post1)\n",
            "Collecting tensorflow-text\n",
            "\u001b[?25l  Downloading https://files.pythonhosted.org/packages/75/f4/3e3968e8a19e85bea8a0fdc9bd1f6a963b29cdecb1be984af0b70fbc0690/tensorflow_text-2.2.1-cp36-cp36m-manylinux1_x86_64.whl (3.0MB)\n",
            "\u001b[K     |████████████████████████████████| 3.0MB 5.0MB/s \n",
            "\u001b[?25hRequirement already satisfied: gin-config in /usr/local/lib/python3.6/dist-packages (from t5) (0.3.0)\n",
            "Collecting tfds-nightly\n",
            "\u001b[?25l  Downloading https://files.pythonhosted.org/packages/bf/72/79e51e25ccb123121ac28001ef1300e4660364019fe5aba5ebdf9308f8dd/tfds_nightly-3.1.0.dev202006210105-py3-none-any.whl (3.4MB)\n",
            "\u001b[K     |████████████████████████████████| 3.4MB 23.6MB/s \n",
            "\u001b[?25hCollecting sacrebleu\n",
            "\u001b[?25l  Downloading https://files.pythonhosted.org/packages/da/4b/6c7a0b26a48d88f56573d11aa5058808fe0d36ba40951287894f943556b5/sacrebleu-1.4.10-py3-none-any.whl (60kB)\n",
            "\u001b[K     |████████████████████████████████| 61kB 7.2MB/s \n",
            "\u001b[?25hCollecting six>=1.14\n",
            "  Downloading https://files.pythonhosted.org/packages/ee/ff/48bde5c0f013094d729fe4b0316ba2a24774b3ff1c52d924a8a4cb04078a/six-1.15.0-py2.py3-none-any.whl\n",
            "Requirement already satisfied: pandas in /usr/local/lib/python3.6/dist-packages (from t5) (1.0.4)\n",
            "Requirement already satisfied: sentencepiece in /usr/local/lib/python3.6/dist-packages (from t5) (0.1.91)\n",
            "Requirement already satisfied: transformers>=2.7.0 in /usr/local/lib/python3.6/dist-packages (from t5) (2.11.0)\n",
            "Collecting mesh-tensorflow[transformer]>=0.1.13\n",
            "\u001b[?25l  Downloading https://files.pythonhosted.org/packages/ea/32/ceaf1549586ccfeaf7840a166876be358bd78ab2fdd152b17c5600ed7888/mesh_tensorflow-0.1.13-py3-none-any.whl (292kB)\n",
            "\u001b[K     |████████████████████████████████| 296kB 39.8MB/s \n",
            "\u001b[?25hRequirement already satisfied: pytz>=2015.7 in /usr/local/lib/python3.6/dist-packages (from babel->t5) (2018.9)\n",
            "Requirement already satisfied: future in /usr/local/lib/python3.6/dist-packages (from torch->t5) (0.16.0)\n",
            "Requirement already satisfied: joblib>=0.11 in /usr/local/lib/python3.6/dist-packages (from scikit-learn->t5) (0.15.1)\n",
            "Requirement already satisfied: tensorflow<2.3,>=2.2.0 in /usr/local/lib/python3.6/dist-packages (from tensorflow-text->t5) (2.2.0)\n",
            "Requirement already satisfied: tqdm in /usr/local/lib/python3.6/dist-packages (from tfds-nightly->t5) (4.41.1)\n",
            "Requirement already satisfied: requests>=2.19.0 in /usr/local/lib/python3.6/dist-packages (from tfds-nightly->t5) (2.23.0)\n",
            "Requirement already satisfied: tensorflow-metadata in /usr/local/lib/python3.6/dist-packages (from tfds-nightly->t5) (0.22.2)\n",
            "Requirement already satisfied: wrapt in /usr/local/lib/python3.6/dist-packages (from tfds-nightly->t5) (1.12.1)\n",
            "Requirement already satisfied: termcolor in /usr/local/lib/python3.6/dist-packages (from tfds-nightly->t5) (1.1.0)\n",
            "Requirement already satisfied: attrs>=18.1.0 in /usr/local/lib/python3.6/dist-packages (from tfds-nightly->t5) (19.3.0)\n",
            "Requirement already satisfied: protobuf>=3.6.1 in /usr/local/lib/python3.6/dist-packages (from tfds-nightly->t5) (3.10.0)\n",
            "Requirement already satisfied: promise in /usr/local/lib/python3.6/dist-packages (from tfds-nightly->t5) (2.3)\n",
            "Requirement already satisfied: dill in /usr/local/lib/python3.6/dist-packages (from tfds-nightly->t5) (0.3.1.1)\n",
            "Collecting portalocker\n",
            "  Downloading https://files.pythonhosted.org/packages/53/84/7b3146ec6378d28abc73ab484f09f47dfa008ad6f03f33d90a369f880e25/portalocker-1.7.0-py2.py3-none-any.whl\n",
            "Requirement already satisfied: python-dateutil>=2.6.1 in /usr/local/lib/python3.6/dist-packages (from pandas->t5) (2.8.1)\n",
            "Requirement already satisfied: regex!=2019.12.17 in /usr/local/lib/python3.6/dist-packages (from transformers>=2.7.0->t5) (2019.12.20)\n",
            "Requirement already satisfied: sacremoses in /usr/local/lib/python3.6/dist-packages (from transformers>=2.7.0->t5) (0.0.43)\n",
            "Requirement already satisfied: filelock in /usr/local/lib/python3.6/dist-packages (from transformers>=2.7.0->t5) (3.0.12)\n",
            "Requirement already satisfied: dataclasses; python_version < \"3.7\" in /usr/local/lib/python3.6/dist-packages (from transformers>=2.7.0->t5) (0.7)\n",
            "Requirement already satisfied: packaging in /usr/local/lib/python3.6/dist-packages (from transformers>=2.7.0->t5) (20.4)\n",
            "Requirement already satisfied: tokenizers==0.7.0 in /usr/local/lib/python3.6/dist-packages (from transformers>=2.7.0->t5) (0.7.0)\n",
            "Requirement already satisfied: tensorflow-datasets; extra == \"transformer\" in /usr/local/lib/python3.6/dist-packages (from mesh-tensorflow[transformer]>=0.1.13->t5) (2.1.0)\n",
            "Requirement already satisfied: gast==0.3.3 in /usr/local/lib/python3.6/dist-packages (from tensorflow<2.3,>=2.2.0->tensorflow-text->t5) (0.3.3)\n",
            "Requirement already satisfied: h5py<2.11.0,>=2.10.0 in /usr/local/lib/python3.6/dist-packages (from tensorflow<2.3,>=2.2.0->tensorflow-text->t5) (2.10.0)\n",
            "Requirement already satisfied: keras-preprocessing>=1.1.0 in /usr/local/lib/python3.6/dist-packages (from tensorflow<2.3,>=2.2.0->tensorflow-text->t5) (1.1.2)\n",
            "Requirement already satisfied: opt-einsum>=2.3.2 in /usr/local/lib/python3.6/dist-packages (from tensorflow<2.3,>=2.2.0->tensorflow-text->t5) (3.2.1)\n",
            "Requirement already satisfied: wheel>=0.26; python_version >= \"3\" in /usr/local/lib/python3.6/dist-packages (from tensorflow<2.3,>=2.2.0->tensorflow-text->t5) (0.34.2)\n",
            "Requirement already satisfied: astunparse==1.6.3 in /usr/local/lib/python3.6/dist-packages (from tensorflow<2.3,>=2.2.0->tensorflow-text->t5) (1.6.3)\n",
            "Requirement already satisfied: tensorflow-estimator<2.3.0,>=2.2.0 in /usr/local/lib/python3.6/dist-packages (from tensorflow<2.3,>=2.2.0->tensorflow-text->t5) (2.2.0)\n",
            "Requirement already satisfied: google-pasta>=0.1.8 in /usr/local/lib/python3.6/dist-packages (from tensorflow<2.3,>=2.2.0->tensorflow-text->t5) (0.2.0)\n",
            "Requirement already satisfied: tensorboard<2.3.0,>=2.2.0 in /usr/local/lib/python3.6/dist-packages (from tensorflow<2.3,>=2.2.0->tensorflow-text->t5) (2.2.2)\n",
            "Requirement already satisfied: grpcio>=1.8.6 in /usr/local/lib/python3.6/dist-packages (from tensorflow<2.3,>=2.2.0->tensorflow-text->t5) (1.29.0)\n",
            "Requirement already satisfied: certifi>=2017.4.17 in /usr/local/lib/python3.6/dist-packages (from requests>=2.19.0->tfds-nightly->t5) (2020.4.5.2)\n",
            "Requirement already satisfied: urllib3!=1.25.0,!=1.25.1,<1.26,>=1.21.1 in /usr/local/lib/python3.6/dist-packages (from requests>=2.19.0->tfds-nightly->t5) (1.24.3)\n",
            "Requirement already satisfied: idna<3,>=2.5 in /usr/local/lib/python3.6/dist-packages (from requests>=2.19.0->tfds-nightly->t5) (2.9)\n",
            "Requirement already satisfied: chardet<4,>=3.0.2 in /usr/local/lib/python3.6/dist-packages (from requests>=2.19.0->tfds-nightly->t5) (3.0.4)\n",
            "Requirement already satisfied: googleapis-common-protos in /usr/local/lib/python3.6/dist-packages (from tensorflow-metadata->tfds-nightly->t5) (1.52.0)\n",
            "Requirement already satisfied: setuptools in /usr/local/lib/python3.6/dist-packages (from protobuf>=3.6.1->tfds-nightly->t5) (47.3.1)\n",
            "Requirement already satisfied: click in /usr/local/lib/python3.6/dist-packages (from sacremoses->transformers>=2.7.0->t5) (7.1.2)\n",
            "Requirement already satisfied: pyparsing>=2.0.2 in /usr/local/lib/python3.6/dist-packages (from packaging->transformers>=2.7.0->t5) (2.4.7)\n",
            "Requirement already satisfied: markdown>=2.6.8 in /usr/local/lib/python3.6/dist-packages (from tensorboard<2.3.0,>=2.2.0->tensorflow<2.3,>=2.2.0->tensorflow-text->t5) (3.2.2)\n",
            "Requirement already satisfied: google-auth-oauthlib<0.5,>=0.4.1 in /usr/local/lib/python3.6/dist-packages (from tensorboard<2.3.0,>=2.2.0->tensorflow<2.3,>=2.2.0->tensorflow-text->t5) (0.4.1)\n",
            "Requirement already satisfied: google-auth<2,>=1.6.3 in /usr/local/lib/python3.6/dist-packages (from tensorboard<2.3.0,>=2.2.0->tensorflow<2.3,>=2.2.0->tensorflow-text->t5) (1.17.2)\n",
            "Requirement already satisfied: tensorboard-plugin-wit>=1.6.0 in /usr/local/lib/python3.6/dist-packages (from tensorboard<2.3.0,>=2.2.0->tensorflow<2.3,>=2.2.0->tensorflow-text->t5) (1.6.0.post3)\n",
            "Requirement already satisfied: werkzeug>=0.11.15 in /usr/local/lib/python3.6/dist-packages (from tensorboard<2.3.0,>=2.2.0->tensorflow<2.3,>=2.2.0->tensorflow-text->t5) (1.0.1)\n",
            "Requirement already satisfied: importlib-metadata; python_version < \"3.8\" in /usr/local/lib/python3.6/dist-packages (from markdown>=2.6.8->tensorboard<2.3.0,>=2.2.0->tensorflow<2.3,>=2.2.0->tensorflow-text->t5) (1.6.1)\n",
            "Requirement already satisfied: requests-oauthlib>=0.7.0 in /usr/local/lib/python3.6/dist-packages (from google-auth-oauthlib<0.5,>=0.4.1->tensorboard<2.3.0,>=2.2.0->tensorflow<2.3,>=2.2.0->tensorflow-text->t5) (1.3.0)\n",
            "Requirement already satisfied: pyasn1-modules>=0.2.1 in /usr/local/lib/python3.6/dist-packages (from google-auth<2,>=1.6.3->tensorboard<2.3.0,>=2.2.0->tensorflow<2.3,>=2.2.0->tensorflow-text->t5) (0.2.8)\n",
            "Requirement already satisfied: rsa<5,>=3.1.4; python_version >= \"3\" in /usr/local/lib/python3.6/dist-packages (from google-auth<2,>=1.6.3->tensorboard<2.3.0,>=2.2.0->tensorflow<2.3,>=2.2.0->tensorflow-text->t5) (4.6)\n",
            "Requirement already satisfied: cachetools<5.0,>=2.0.0 in /usr/local/lib/python3.6/dist-packages (from google-auth<2,>=1.6.3->tensorboard<2.3.0,>=2.2.0->tensorflow<2.3,>=2.2.0->tensorflow-text->t5) (4.1.0)\n",
            "Requirement already satisfied: zipp>=0.5 in /usr/local/lib/python3.6/dist-packages (from importlib-metadata; python_version < \"3.8\"->markdown>=2.6.8->tensorboard<2.3.0,>=2.2.0->tensorflow<2.3,>=2.2.0->tensorflow-text->t5) (3.1.0)\n",
            "Requirement already satisfied: oauthlib>=3.0.0 in /usr/local/lib/python3.6/dist-packages (from requests-oauthlib>=0.7.0->google-auth-oauthlib<0.5,>=0.4.1->tensorboard<2.3.0,>=2.2.0->tensorflow<2.3,>=2.2.0->tensorflow-text->t5) (3.1.0)\n",
            "Requirement already satisfied: pyasn1<0.5.0,>=0.4.6 in /usr/local/lib/python3.6/dist-packages (from pyasn1-modules>=0.2.1->google-auth<2,>=1.6.3->tensorboard<2.3.0,>=2.2.0->tensorflow<2.3,>=2.2.0->tensorflow-text->t5) (0.4.8)\n",
            "\u001b[31mERROR: google-colab 1.0.0 has requirement six~=1.12.0, but you'll have six 1.15.0 which is incompatible.\u001b[0m\n",
            "\u001b[31mERROR: datascience 0.10.6 has requirement folium==0.2.1, but you'll have folium 0.8.3 which is incompatible.\u001b[0m\n",
            "\u001b[31mERROR: albumentations 0.1.12 has requirement imgaug<0.2.7,>=0.2.5, but you'll have imgaug 0.2.9 which is incompatible.\u001b[0m\n",
            "Installing collected packages: six, rouge-score, tensorflow-text, tfds-nightly, portalocker, sacrebleu, mesh-tensorflow, t5\n",
            "  Found existing installation: six 1.12.0\n",
            "    Uninstalling six-1.12.0:\n",
            "      Successfully uninstalled six-1.12.0\n",
            "Successfully installed mesh-tensorflow-0.1.13 portalocker-1.7.0 rouge-score-0.0.4 sacrebleu-1.4.10 six-1.15.0 t5-0.6.0 tensorflow-text-2.2.1 tfds-nightly-3.1.0.dev202006210105\n"
          ],
          "name": "stdout"
        },
        {
          "output_type": "display_data",
          "data": {
            "application/vnd.colab-display-data+json": {
              "pip_warning": {
                "packages": [
                  "six"
                ]
              }
            }
          },
          "metadata": {
            "tags": []
          }
        },
        {
          "output_type": "stream",
          "text": [
            "Requirement already satisfied: sentencepiece in /usr/local/lib/python3.6/dist-packages (0.1.91)\n",
            "--2020-06-22 03:05:49--  https://docs.google.com/uc?export=download&id=1V9crCmqvgQcv0Sx2MCNWB9AET2j6M6FW\n",
            "Resolving docs.google.com (docs.google.com)... 108.177.125.100, 108.177.125.102, 108.177.125.138, ...\n",
            "Connecting to docs.google.com (docs.google.com)|108.177.125.100|:443... connected.\n",
            "HTTP request sent, awaiting response... 302 Moved Temporarily\n",
            "Location: https://doc-10-2s-docs.googleusercontent.com/docs/securesc/ha0ro937gcuc7l7deffksulhg5h7mbp1/fil581jfqd654rk1p68dm1n99idm4600/1592795100000/16970776037313924126/*/1V9crCmqvgQcv0Sx2MCNWB9AET2j6M6FW?e=download [following]\n",
            "Warning: wildcards not supported in HTTP.\n",
            "--2020-06-22 03:05:50--  https://doc-10-2s-docs.googleusercontent.com/docs/securesc/ha0ro937gcuc7l7deffksulhg5h7mbp1/fil581jfqd654rk1p68dm1n99idm4600/1592795100000/16970776037313924126/*/1V9crCmqvgQcv0Sx2MCNWB9AET2j6M6FW?e=download\n",
            "Resolving doc-10-2s-docs.googleusercontent.com (doc-10-2s-docs.googleusercontent.com)... 108.177.125.132, 2404:6800:4008:c01::84\n",
            "Connecting to doc-10-2s-docs.googleusercontent.com (doc-10-2s-docs.googleusercontent.com)|108.177.125.132|:443... connected.\n",
            "HTTP request sent, awaiting response... 200 OK\n",
            "Length: 955428 (933K) [application/octet-stream]\n",
            "Saving to: ‘data/AD_NMT-master/english-Arabic-both.pkl’\n",
            "\n",
            "data/AD_NMT-master/ 100%[===================>] 933.04K  --.-KB/s    in 0.01s   \n",
            "\n",
            "2020-06-22 03:05:51 (86.4 MB/s) - ‘data/AD_NMT-master/english-Arabic-both.pkl’ saved [955428/955428]\n",
            "\n",
            "--2020-06-22 03:05:52--  https://docs.google.com/uc?export=download&id=1UzL4cOWTMCee83KBUh2QO_H62AFVpDQV\n",
            "Resolving docs.google.com (docs.google.com)... 108.177.125.139, 108.177.125.100, 108.177.125.102, ...\n",
            "Connecting to docs.google.com (docs.google.com)|108.177.125.139|:443... connected.\n",
            "HTTP request sent, awaiting response... 302 Moved Temporarily\n",
            "Location: https://doc-00-2s-docs.googleusercontent.com/docs/securesc/ha0ro937gcuc7l7deffksulhg5h7mbp1/3fu2bd6kbm440bbjmhnvl1vgkvqaf4i0/1592795100000/16970776037313924126/*/1UzL4cOWTMCee83KBUh2QO_H62AFVpDQV?e=download [following]\n",
            "Warning: wildcards not supported in HTTP.\n",
            "--2020-06-22 03:05:53--  https://doc-00-2s-docs.googleusercontent.com/docs/securesc/ha0ro937gcuc7l7deffksulhg5h7mbp1/3fu2bd6kbm440bbjmhnvl1vgkvqaf4i0/1592795100000/16970776037313924126/*/1UzL4cOWTMCee83KBUh2QO_H62AFVpDQV?e=download\n",
            "Resolving doc-00-2s-docs.googleusercontent.com (doc-00-2s-docs.googleusercontent.com)... 108.177.125.132, 2404:6800:4008:c01::84\n",
            "Connecting to doc-00-2s-docs.googleusercontent.com (doc-00-2s-docs.googleusercontent.com)|108.177.125.132|:443... connected.\n",
            "HTTP request sent, awaiting response... 200 OK\n",
            "Length: unspecified [application/octet-stream]\n",
            "Saving to: ‘data/AD_NMT-master/LAV-MSA-2-both.pkl’\n",
            "\n",
            "data/AD_NMT-master/     [ <=>                ]   2.33M  --.-KB/s    in 0.01s   \n",
            "\n",
            "2020-06-22 03:05:54 (175 MB/s) - ‘data/AD_NMT-master/LAV-MSA-2-both.pkl’ saved [2447014]\n",
            "\n",
            "--2020-06-22 03:05:55--  https://docs.google.com/uc?export=download&id=1UjDX7cCG2S23SPfSHxSPdVayMTxB5Y16\n",
            "Resolving docs.google.com (docs.google.com)... 108.177.125.138, 108.177.125.101, 108.177.125.100, ...\n",
            "Connecting to docs.google.com (docs.google.com)|108.177.125.138|:443... connected.\n",
            "HTTP request sent, awaiting response... 302 Moved Temporarily\n",
            "Location: https://doc-04-2s-docs.googleusercontent.com/docs/securesc/ha0ro937gcuc7l7deffksulhg5h7mbp1/a032g4ttq4o7jtguaqaqicrnt123f14n/1592795100000/16970776037313924126/*/1UjDX7cCG2S23SPfSHxSPdVayMTxB5Y16?e=download [following]\n",
            "Warning: wildcards not supported in HTTP.\n",
            "--2020-06-22 03:05:56--  https://doc-04-2s-docs.googleusercontent.com/docs/securesc/ha0ro937gcuc7l7deffksulhg5h7mbp1/a032g4ttq4o7jtguaqaqicrnt123f14n/1592795100000/16970776037313924126/*/1UjDX7cCG2S23SPfSHxSPdVayMTxB5Y16?e=download\n",
            "Resolving doc-04-2s-docs.googleusercontent.com (doc-04-2s-docs.googleusercontent.com)... 108.177.125.132, 2404:6800:4008:c01::84\n",
            "Connecting to doc-04-2s-docs.googleusercontent.com (doc-04-2s-docs.googleusercontent.com)|108.177.125.132|:443... connected.\n",
            "HTTP request sent, awaiting response... 200 OK\n",
            "Length: unspecified [application/octet-stream]\n",
            "Saving to: ‘data/AD_NMT-master/Magribi_MSA-both.pkl’\n",
            "\n",
            "data/AD_NMT-master/     [ <=>                ]   2.81M  --.-KB/s    in 0.02s   \n",
            "\n",
            "2020-06-22 03:05:56 (181 MB/s) - ‘data/AD_NMT-master/Magribi_MSA-both.pkl’ saved [2944107]\n",
            "\n",
            "--2020-06-22 03:05:58--  https://docs.google.com/uc?export=download&id=1fEVj9jCxvcKn9zg8lO43i2sWZquegg5H\n",
            "Resolving docs.google.com (docs.google.com)... 108.177.125.138, 108.177.125.101, 108.177.125.100, ...\n",
            "Connecting to docs.google.com (docs.google.com)|108.177.125.138|:443... connected.\n",
            "HTTP request sent, awaiting response... 302 Moved Temporarily\n",
            "Location: https://doc-10-2s-docs.googleusercontent.com/docs/securesc/ha0ro937gcuc7l7deffksulhg5h7mbp1/rjr1cg5qjhna98cth3fel4ip2hhsj30h/1592795100000/16970776037313924126/*/1fEVj9jCxvcKn9zg8lO43i2sWZquegg5H?e=download [following]\n",
            "Warning: wildcards not supported in HTTP.\n",
            "--2020-06-22 03:05:58--  https://doc-10-2s-docs.googleusercontent.com/docs/securesc/ha0ro937gcuc7l7deffksulhg5h7mbp1/rjr1cg5qjhna98cth3fel4ip2hhsj30h/1592795100000/16970776037313924126/*/1fEVj9jCxvcKn9zg8lO43i2sWZquegg5H?e=download\n",
            "Resolving doc-10-2s-docs.googleusercontent.com (doc-10-2s-docs.googleusercontent.com)... 108.177.125.132, 2404:6800:4008:c01::84\n",
            "Connecting to doc-10-2s-docs.googleusercontent.com (doc-10-2s-docs.googleusercontent.com)|108.177.125.132|:443... connected.\n",
            "HTTP request sent, awaiting response... 200 OK\n",
            "Length: 10239 (10.0K) [text/plain]\n",
            "Saving to: ‘data/operative_config.gin’\n",
            "\n",
            "data/operative_conf 100%[===================>]  10.00K  --.-KB/s    in 0s      \n",
            "\n",
            "2020-06-22 03:05:59 (57.6 MB/s) - ‘data/operative_config.gin’ saved [10239/10239]\n",
            "\n",
            "--2020-06-22 03:06:00--  https://docs.google.com/uc?export=download&id=1UGKswXSqHSxWpx57cEDzvNeJaqbAuyt8\n",
            "Resolving docs.google.com (docs.google.com)... 108.177.125.139, 108.177.125.138, 108.177.125.100, ...\n",
            "Connecting to docs.google.com (docs.google.com)|108.177.125.139|:443... connected.\n",
            "HTTP request sent, awaiting response... 302 Moved Temporarily\n",
            "Location: https://doc-04-2s-docs.googleusercontent.com/docs/securesc/ha0ro937gcuc7l7deffksulhg5h7mbp1/eb21u2s1tfr4ve2gln1537addu0gjh2l/1592795100000/16970776037313924126/*/1UGKswXSqHSxWpx57cEDzvNeJaqbAuyt8?e=download [following]\n",
            "Warning: wildcards not supported in HTTP.\n",
            "--2020-06-22 03:06:01--  https://doc-04-2s-docs.googleusercontent.com/docs/securesc/ha0ro937gcuc7l7deffksulhg5h7mbp1/eb21u2s1tfr4ve2gln1537addu0gjh2l/1592795100000/16970776037313924126/*/1UGKswXSqHSxWpx57cEDzvNeJaqbAuyt8?e=download\n",
            "Resolving doc-04-2s-docs.googleusercontent.com (doc-04-2s-docs.googleusercontent.com)... 108.177.125.132, 2404:6800:4008:c01::84\n",
            "Connecting to doc-04-2s-docs.googleusercontent.com (doc-04-2s-docs.googleusercontent.com)|108.177.125.132|:443... connected.\n",
            "HTTP request sent, awaiting response... 200 OK\n",
            "Length: unspecified [text/xml]\n",
            "Saving to: ‘data/padic.xml’\n",
            "\n",
            "data/padic.xml          [ <=>                ]   2.97M  --.-KB/s    in 0.02s   \n",
            "\n",
            "2020-06-22 03:06:01 (139 MB/s) - ‘data/padic.xml’ saved [3114143]\n",
            "\n"
          ],
          "name": "stdout"
        }
      ]
    },
    {
      "cell_type": "code",
      "metadata": {
        "colab_type": "code",
        "id": "-WzhRv4mIKNq",
        "colab": {}
      },
      "source": [
        "#James Chartouni\n",
        "#Joey Park\n",
        "#Raef Khan\n",
        "\n",
        "import torch\n",
        "from torch.optim import SGD\n",
        "import pandas as pd\n",
        "import numpy as np\n",
        "import pickle\n",
        "import os, io, glob\n",
        "import functools\n",
        "\n",
        "import sentencepiece as spm\n",
        "\n",
        "import transformers\n",
        "import t5\n",
        "import tensorflow as tf\n",
        "import tensorflow_datasets as tfds\n",
        "from sklearn.model_selection import train_test_split"
      ],
      "execution_count": 2,
      "outputs": []
    },
    {
      "cell_type": "markdown",
      "metadata": {
        "colab_type": "text",
        "id": "irQQ9E_7IKOM"
      },
      "source": [
        "## Prepare Datasets\n",
        "\n",
        "We need to take our training and test sets from the pkl files and create new .txt files that are formatted so that the standard torchtext Dataset class can read them"
      ]
    },
    {
      "cell_type": "markdown",
      "metadata": {
        "id": "fctRFLVvs3X2",
        "colab_type": "text"
      },
      "source": [
        "### PADIC Dataset Parsing"
      ]
    },
    {
      "cell_type": "code",
      "metadata": {
        "id": "X4_RfmVTUuze",
        "colab_type": "code",
        "colab": {}
      },
      "source": [
        "import xml.etree.ElementTree as ET\n",
        "\n",
        "padic_tree = ET.parse('data/padic.xml')\n",
        "\n",
        "padic_alg_msa = []\n",
        "padic_ann_msa = []\n",
        "padic_syr_msa = []\n",
        "padic_pal_msa = []\n",
        "padic_mor_msa = [] \n",
        "\n",
        "for sentence in padic_tree.getroot():\n",
        "  padic_alg_msa.append([sentence.find('ALGIERS').text.strip(), sentence.find('MODERN-STANDARD-ARABIC').text.strip()])\n",
        "  padic_ann_msa.append([sentence.find('ANNABA').text.strip(), sentence.find('MODERN-STANDARD-ARABIC').text.strip()])\n",
        "  padic_syr_msa.append([sentence.find('SYRIAN').text.strip(), sentence.find('MODERN-STANDARD-ARABIC').text.strip()])\n",
        "  padic_pal_msa.append([sentence.find('PALESTINIAN').text.strip(), sentence.find('MODERN-STANDARD-ARABIC').text.strip()])\n",
        "  padic_mor_msa.append([sentence.find('MOROCCAN').text.strip(), sentence.find('MODERN-STANDARD-ARABIC').text.strip()])"
      ],
      "execution_count": 3,
      "outputs": []
    },
    {
      "cell_type": "code",
      "metadata": {
        "id": "iL68WL8LEtTF",
        "colab_type": "code",
        "colab": {
          "base_uri": "https://localhost:8080/",
          "height": 0
        },
        "outputId": "2f4678b0-5884-4821-bd64-fe3167609fc0"
      },
      "source": [
        "print(padic_alg_msa[0])\n",
        "print(padic_ann_msa[0])\n",
        "print(padic_syr_msa[0])\n",
        "print(padic_pal_msa[0])\n",
        "print(padic_mor_msa[0])"
      ],
      "execution_count": 4,
      "outputs": [
        {
          "output_type": "stream",
          "text": [
            "['EAdw AlnAs ytbAkAw bdyt nhdr mn qlby tqwl nhdy fAlnAs', \"tEAlt >SwAt AlnAs bAlbkA'،  bd>t >tHdv bAnfEAl w k>nny >hdy fy AlnAs\"]\n",
            "['EAdwA AlnAs ytbAkAw bdyt nhdr bg$ w qwl ElyA nhdy fy AlnAs', \"tEAlt >SwAt AlnAs bAlbkA'،  bd>t >tHdv bAnfEAl w k>nny >hdy fy AlnAs\"]\n",
            "['Ely Swt AlnAs bAlbky w bl~$t >Hky bESbyp w k>ny Em Ahdy bAlnAs', \"tEAlt >SwAt AlnAs bAlbkA'،  bd>t >tHdv bAnfEAl w k>nny >hdy fy AlnAs\"]\n",
            "['SArwA AlnAs ySyHwA bSwt EAly wbdyt AHky wAnA mnfEl wk>ny bhdy fy AlnAs', \"tEAlt >SwAt AlnAs bAlbkA'،  bd>t >tHdv bAnfEAl w k>nny >hdy fy AlnAs\"]\n",
            "['nAs bdAw tytbAkAw wbdyt tnhdr b nfEl bHAl <lY tnhdy AlnAs', \"tEAlt >SwAt AlnAs bAlbkA'،  bd>t >tHdv bAnfEAl w k>nny >hdy fy AlnAs\"]\n"
          ],
          "name": "stdout"
        }
      ]
    },
    {
      "cell_type": "code",
      "metadata": {
        "id": "FSfrbD9pGrZa",
        "colab_type": "code",
        "colab": {}
      },
      "source": [
        "alg_msa_train, alg_msa_val = train_test_split(padic_alg_msa, test_size=.15)\n",
        "ann_msa_train, ann_msa_val = train_test_split(padic_ann_msa, test_size=.15)\n",
        "syr_msa_train, syr_msa_val = train_test_split(padic_syr_msa, test_size=.15)\n",
        "pal_msa_train, pal_msa_val = train_test_split(padic_pal_msa, test_size=.15)\n",
        "mor_msa_train, mor_msa_val = train_test_split(padic_mor_msa, test_size=.15)"
      ],
      "execution_count": 5,
      "outputs": []
    },
    {
      "cell_type": "code",
      "metadata": {
        "id": "C5uDm27ZHOEi",
        "colab_type": "code",
        "colab": {
          "base_uri": "https://localhost:8080/",
          "height": 0
        },
        "outputId": "02d07bbf-a82b-403a-ccf1-28e6233d7c47"
      },
      "source": [
        "#all the translations have equal amt. of examples\n",
        "print(len(alg_msa_train))\n",
        "print(len(alg_msa_val))"
      ],
      "execution_count": 6,
      "outputs": [
        {
          "output_type": "stream",
          "text": [
            "6131\n",
            "1082\n"
          ],
          "name": "stdout"
        }
      ]
    },
    {
      "cell_type": "markdown",
      "metadata": {
        "id": "KxCLgMZ2ns4b",
        "colab_type": "text"
      },
      "source": [
        "###Initial Loading from Pickle"
      ]
    },
    {
      "cell_type": "code",
      "metadata": {
        "colab_type": "code",
        "id": "aha0xureIKNw",
        "colab": {
          "base_uri": "https://localhost:8080/",
          "height": 35
        },
        "outputId": "9539d132-cb8d-44bb-c4e9-486660f8f7a7"
      },
      "source": [
        "ls data/AD_NMT-master"
      ],
      "execution_count": 7,
      "outputs": [
        {
          "output_type": "stream",
          "text": [
            "english-Arabic-both.pkl  LAV-MSA-2-both.pkl  Magribi_MSA-both.pkl\n"
          ],
          "name": "stdout"
        }
      ]
    },
    {
      "cell_type": "code",
      "metadata": {
        "colab_type": "code",
        "id": "XWKnGRlLIKN9",
        "colab": {}
      },
      "source": [
        "file_path = 'data/AD_NMT-master/'\n",
        "\n",
        "with open(file_path + \"english-Arabic-both.pkl\", 'rb') as handle:\n",
        "    data_English_MSA_both = pickle.load(handle) \n",
        "\n",
        "with open(file_path + \"LAV-MSA-2-both.pkl\", 'rb') as handle:\n",
        "    data_LAV_MSA_both = pickle.load(handle) \n",
        "\n",
        "with open(file_path + \"Magribi_MSA-both.pkl\", 'rb') as handle:\n",
        "    data_Magribi_MSA_both = pickle.load(handle) \n",
        "    "
      ],
      "execution_count": 8,
      "outputs": []
    },
    {
      "cell_type": "code",
      "metadata": {
        "colab_type": "code",
        "id": "Ch3APJadIKOH",
        "colab": {
          "base_uri": "https://localhost:8080/",
          "height": 110
        },
        "outputId": "cc3cf6bb-28e2-48cd-80f5-d06caaa86e53"
      },
      "source": [
        "#few dataset examples\n",
        "print(data_English_MSA_both[0:5])\n",
        "print(data_English_MSA_both[-5:])\n",
        "print(data_LAV_MSA_both[0:5])\n",
        "print(data_Magribi_MSA_both[0:5])"
      ],
      "execution_count": 9,
      "outputs": [
        {
          "output_type": "stream",
          "text": [
            "[['Tom was also there', 'كان توم هنا ايضا'], ['That old woman lives by herself', 'تلك المراة العجوز تسكن بمفردها'], ['He went abroad for the purpose of studying English', 'سافر خارج البلد ليتعلم الانجليزية'], ['There is a fork missing', 'هناك شوكة ناقصة'], [\"I don't know this game\", 'لا اعرف هذه اللعبة']]\n",
            "[['Please send us more information', 'ارسل الينا المزيد من المعلومات اذا تكرمت'], ['I am an only child', 'انا طفل وحيد ابي و امي'], ['Make good use of your time', 'استفد من وقتك جيدا'], [\"Fighting won't settle anything\", 'لن يحل القتال اي شيء'], ['Practice makes perfect', 'الممارسة هي الطريق الى الاتقان']]\n",
            "[['لا انا بعرف وحدة راحت ع فرنسا و معا شنتا حطت فيها الفرش', 'لا اعرف واحدة ذهبت الى فرنسا و لها غرفة و ضعت فيها الافرشة'], ['روح بوشك و فتول عاليسار', 'اذهب تقدم و استدر يسارا'], ['لا لا لازم انه يكون عندك موضوع ما في اشي', ' لا لا يجب ان يكون لديك موضوع هذا ضروري'], ['اوعي تبعدي من هون بلاش تضيعي ', 'لا تبتعد عن هنا حتى لا تفقد الطريق '], ['قصدي صراحة يما انا كمان كرهته من يوم ما عملتيه زي ما بتعمله خالتي كرهته و صرت ما باطيقه بالمرة', 'اقصد صراحة يا امي انا ايضا كرهته من يوم حضرته مثلما تحضره خالتي كرهته و اصبحت لا اطيقه ابدا']]\n",
            "[['يا ربي متخليش حتى لبيوتا ديالهم يوصلو ل البارة', 'يارب لا تدع اهدافهم تصيب حتى العارضة'], ['يعطيك الصحة كريمة', 'يعطيك العافية كريمة'], [' لوكان جوزوزه ساعة و نص و يهنيونا ', 'لو انهم يبثونه ساعة و نصف و يريحوننا'], ['ولا عيط لك واحد و قالك راه فلان رايح يضربك غدوة بكف ', 'او انه قال لك بان فلان سيصفعك غدا'], ['عبرتي انا عقدتها مرة وحدة', 'احسنت عقدتها مرة واحدة']]\n"
          ],
          "name": "stdout"
        }
      ]
    },
    {
      "cell_type": "code",
      "metadata": {
        "colab_type": "code",
        "id": "lp7ncVY6wqET",
        "colab": {}
      },
      "source": [
        "#splits the train dataset into train and validation sets, define test set as datafile\n",
        "en_msa_train, en_msa_val = train_test_split(data_English_MSA_both, test_size=.2)\n",
        "\n",
        "lav_msa_train, lav_msa_val = train_test_split(data_LAV_MSA_both, test_size=.2)\n",
        "\n",
        "mag_msa_train, mag_msa_val = train_test_split(data_Magribi_MSA_both, test_size=.2)"
      ],
      "execution_count": 10,
      "outputs": []
    },
    {
      "cell_type": "code",
      "metadata": {
        "colab_type": "code",
        "id": "9Ue2fSILwqEW",
        "colab": {
          "base_uri": "https://localhost:8080/",
          "height": 126
        },
        "outputId": "b647d439-53cc-4428-b707-d87e7835b481"
      },
      "source": [
        "print(len(en_msa_train))\n",
        "print(len(en_msa_val))\n",
        "\n",
        "print(len(lav_msa_train))\n",
        "print(len(lav_msa_val))\n",
        "\n",
        "print(len(mag_msa_train))\n",
        "print(len(mag_msa_val))"
      ],
      "execution_count": 11,
      "outputs": [
        {
          "output_type": "stream",
          "text": [
            "8000\n",
            "2001\n",
            "12644\n",
            "3161\n",
            "15788\n",
            "3948\n"
          ],
          "name": "stdout"
        }
      ]
    },
    {
      "cell_type": "code",
      "metadata": {
        "colab_type": "code",
        "id": "W3bWU46TIKOb",
        "colab": {}
      },
      "source": [
        "file_path = 'data/'\n",
        "\n",
        "def list_to_csv(ds, src='en', trg='msa', datatype=''):\n",
        "    src_formatted = datatype + '_' + src + '_' + trg + '.' + 'csv'\n",
        "    \n",
        "    with open(file_path + datatype + \"/\" + src_formatted, 'wt') as csv:\n",
        "        for i, arr in enumerate(ds):\n",
        "            csv.write(arr[1] + ',' + arr[0] + '\\n')"
      ],
      "execution_count": 12,
      "outputs": []
    },
    {
      "cell_type": "code",
      "metadata": {
        "colab_type": "code",
        "id": "AqwDB9BuKEnV",
        "colab": {}
      },
      "source": [
        "list_to_csv(en_msa_train, 'en', 'msa', 'train')\n",
        "list_to_csv(en_msa_val, 'en', 'msa', 'val')\n",
        "\n",
        "list_to_csv(lav_msa_train, 'lav', 'msa', 'train')\n",
        "list_to_csv(lav_msa_val, 'lav', 'msa', 'val')\n",
        "\n",
        "list_to_csv(mag_msa_train, 'mag', 'msa', 'train')\n",
        "list_to_csv(mag_msa_val, 'mag', 'msa', 'val')"
      ],
      "execution_count": 13,
      "outputs": []
    },
    {
      "cell_type": "markdown",
      "metadata": {
        "id": "tGqh46GhVHfI",
        "colab_type": "text"
      },
      "source": [
        "## Training SentencePiece Model"
      ]
    },
    {
      "cell_type": "code",
      "metadata": {
        "id": "6lcM0dLclt6J",
        "colab_type": "code",
        "colab": {}
      },
      "source": [
        "#combine all the training lines of all three languages\n",
        "spm_input_ds = en_msa_train + mag_msa_train + lav_msa_train"
      ],
      "execution_count": 14,
      "outputs": []
    },
    {
      "cell_type": "code",
      "metadata": {
        "id": "nBZ5iR21etNt",
        "colab_type": "code",
        "colab": {}
      },
      "source": [
        "def list_to_input(ds):\n",
        "    src_formatted = 'spm_input' + '.' + 'txt'\n",
        "\n",
        "    with open(file_path + \"/\" + src_formatted, 'wt') as sentencelinefile:\n",
        "        for i, arr in enumerate(ds):\n",
        "            sentencelinefile.write(arr[0] + '\\n' + arr[1] + '\\n')"
      ],
      "execution_count": 15,
      "outputs": []
    },
    {
      "cell_type": "code",
      "metadata": {
        "id": "TxDKpM1H7vaQ",
        "colab_type": "code",
        "colab": {}
      },
      "source": [
        "list_to_input(spm_input_ds)"
      ],
      "execution_count": 16,
      "outputs": []
    },
    {
      "cell_type": "code",
      "metadata": {
        "id": "o3YrvcR8anQT",
        "colab_type": "code",
        "colab": {}
      },
      "source": [
        "VOCAB_SIZE = 32128\n",
        "spm.SentencePieceTrainer.train('--input=data/spm_input.txt --model_prefix=data/model/spm --vocab_size=' + str(VOCAB_SIZE) + ' --unk_id=2 --bos_id=-1 --eos_id=1 --pad_id=0 --hard_vocab_limit=False')"
      ],
      "execution_count": 17,
      "outputs": []
    },
    {
      "cell_type": "code",
      "metadata": {
        "id": "EzB-_AeUUNLY",
        "colab_type": "code",
        "colab": {}
      },
      "source": [
        "filepath = 'data/model/spm.model'"
      ],
      "execution_count": 18,
      "outputs": []
    },
    {
      "cell_type": "markdown",
      "metadata": {
        "id": "YrHAuzNW1eIh",
        "colab_type": "text"
      },
      "source": [
        "##Tensor Processing + Add to TaskRegistry"
      ]
    },
    {
      "cell_type": "markdown",
      "metadata": {
        "id": "3oVVzdeAZd0x",
        "colab_type": "text"
      },
      "source": [
        "### English to Arabic Task"
      ]
    },
    {
      "cell_type": "code",
      "metadata": {
        "id": "aWnZcYI_491p",
        "colab_type": "code",
        "colab": {}
      },
      "source": [
        "en_msa_split_csv_path = {\n",
        "    \"train\": \"data/train/train_en_msa.csv\",\n",
        "    \"validation\": \"data/val/val_en_msa.csv\"\n",
        "}\n",
        "en_msa_example_count = {\n",
        "    \"train\": len(en_msa_train),\n",
        "    \"validation\": len(en_msa_val)\n",
        "}"
      ],
      "execution_count": 19,
      "outputs": []
    },
    {
      "cell_type": "code",
      "metadata": {
        "id": "H2e3cM_wP_M8",
        "colab_type": "code",
        "colab": {
          "base_uri": "https://localhost:8080/",
          "height": 128
        },
        "outputId": "a542d3bf-df00-4b0b-cdde-0bed265bcbf2"
      },
      "source": [
        "def en_msa_translation_dataset_fn(split, shuffle_files=False):\n",
        "  ds = tf.data.TextLineDataset(en_msa_split_csv_path[split])\n",
        "  ds = ds.map(\n",
        "      functools.partial(tf.io.decode_csv, record_defaults=[\"\",\"\"],\n",
        "                        field_delim=\",\", use_quote_delim=False),\n",
        "      num_parallel_calls=tf.data.experimental.AUTOTUNE\n",
        "  )\n",
        "  ds = ds.map(lambda *example: dict(zip([\"source\", \"target\"], example)) )\n",
        "  return ds\n",
        "\n",
        "for example in tfds.as_numpy(en_msa_translation_dataset_fn(\"train\").take(5)):\n",
        "    print(example)"
      ],
      "execution_count": 20,
      "outputs": [
        {
          "output_type": "stream",
          "text": [
            "{'source': b'\\xd8\\xa8\\xd9\\x85\\xd8\\xa7\\xd8\\xb0\\xd8\\xa7 \\xd8\\xa7\\xd8\\xac\\xd8\\xa8\\xd8\\xaa\\xd8\\x9f', 'target': b'What did you answer?'}\n",
            "{'source': b'\\xd9\\x85\\xd9\\x84\\xd8\\xa7\\xd8\\xa8\\xd8\\xb3 \\xd8\\xaa\\xd9\\x88\\xd9\\x85 \\xd9\\x85\\xd9\\x88\\xd8\\xb6\\xd8\\xa9 \\xd9\\x82\\xd8\\xaf\\xd9\\x8a\\xd9\\x85\\xd8\\xa9', 'target': b\"Tom's clothes are out of fashion\"}\n",
            "{'source': b'\\xd8\\xa7\\xd9\\x8a\\xd9\\x86 \\xd8\\xa7\\xd9\\x84\\xd8\\xa7\\xd8\\xae\\xd8\\xb1\\xd9\\x8a\\xd9\\x86\\xd8\\x9f', 'target': b'Where are the others?'}\n",
            "{'source': b'\\xd9\\x84\\xd9\\x8a\\xd8\\xb3\\xd8\\xaa \\xd8\\xac\\xd8\\xaf\\xd9\\x8a\\xd8\\xaf\\xd8\\xa9', 'target': b\"It isn't new\"}\n",
            "{'source': b'\\xd9\\x84\\xd8\\xa7 \\xd9\\x8a\\xd9\\x85\\xd9\\x83\\xd9\\x86\\xd9\\x83 \\xd8\\xa7\\xd9\\x84\\xd8\\xb9\\xd9\\x8a\\xd8\\xb4 \\xd9\\x85\\xd9\\x86 \\xd8\\xaf\\xd9\\x88\\xd9\\x86 \\xd8\\xa7\\xd9\\x83\\xd8\\xb3\\xd8\\xac\\xd9\\x8a\\xd9\\x86', 'target': b\"You can't live without oxygen\"}\n"
          ],
          "name": "stdout"
        }
      ]
    },
    {
      "cell_type": "code",
      "metadata": {
        "id": "z1GXED2IO3pE",
        "colab_type": "code",
        "colab": {}
      },
      "source": [
        "#turn the ds of dictionaries and change the keys to inputs and targets that the model\n",
        "def en_msa_translation_preprocessor(ds):\n",
        "  def to_inputs_and_targets(ex):\n",
        "    return{\n",
        "        \"inputs\": tf.strings.join([\"translate English to MSA: \",ex[\"source\"]]),\n",
        "        \"targets\": ex[\"target\"]\n",
        "    }\n",
        "  return ds.map(to_inputs_and_targets, num_parallel_calls=tf.data.experimental.AUTOTUNE)"
      ],
      "execution_count": 21,
      "outputs": []
    },
    {
      "cell_type": "code",
      "metadata": {
        "id": "Z-W6j-SDXcNT",
        "colab_type": "code",
        "colab": {}
      },
      "source": [
        "t5.data.TaskRegistry.remove(\"translation_en_msa\")\n",
        "t5.data.TaskRegistry.add(\n",
        "    #name of the Task\n",
        "    \"translation_en_msa\",\n",
        "    #Supply a function which returns a tf.data.Dataset\n",
        "    dataset_fn=en_msa_translation_dataset_fn,\n",
        "    splits=[\"train\", \"validation\"],\n",
        "    # Supply a function which preprocesses text from the tf.data.Dataset.\n",
        "    text_preprocessor=[en_msa_translation_preprocessor],\n",
        "    # Lowercase targets before computing metrics.\n",
        "    postprocess_fn=t5.data.postprocessors.lower_text, \n",
        "    # We'll use accuracy as our evaluation metric.\n",
        "    metric_fns=[t5.evaluation.metrics.bleu],\n",
        "    # Not required, but helps for mixing and auto-caching.\n",
        "    num_input_examples=en_msa_example_count,\n",
        "    # output_features\n",
        "    output_features=t5.data.Feature(vocabulary=t5.data.SentencePieceVocabulary(filepath))\n",
        ")"
      ],
      "execution_count": 22,
      "outputs": []
    },
    {
      "cell_type": "markdown",
      "metadata": {
        "id": "fGr8wt7naDRL",
        "colab_type": "text"
      },
      "source": [
        "###Levantine to MSA Task"
      ]
    },
    {
      "cell_type": "code",
      "metadata": {
        "colab_type": "code",
        "id": "e3A3wQdjagH6",
        "colab": {}
      },
      "source": [
        "lav_msa_split_csv_path = {\n",
        "    \"train\": \"data/train/train_lav_msa.csv\",\n",
        "    \"validation\": \"data/val/val_lav_msa.csv\"\n",
        "}\n",
        "lav_msa_example_count = {\n",
        "    \"train\": len(lav_msa_train),\n",
        "    \"validation\": len(lav_msa_val)\n",
        "}"
      ],
      "execution_count": 23,
      "outputs": []
    },
    {
      "cell_type": "code",
      "metadata": {
        "colab_type": "code",
        "id": "xCK_j-9BagH_",
        "colab": {
          "base_uri": "https://localhost:8080/",
          "height": 128
        },
        "outputId": "89f5dedb-3675-42de-ce41-ed3555512fd8"
      },
      "source": [
        "def lav_msa_translation_dataset_fn(split, shuffle_files=False):\n",
        "  ds = tf.data.TextLineDataset(lav_msa_split_csv_path[split])\n",
        "  ds = ds.map(\n",
        "      functools.partial(tf.io.decode_csv, record_defaults=[\"\",\"\"],\n",
        "                        field_delim=\",\", use_quote_delim=False),\n",
        "      num_parallel_calls=tf.data.experimental.AUTOTUNE\n",
        "  )\n",
        "  ds = ds.map(lambda *example: dict(zip([\"source\", \"target\"], example)) )\n",
        "  return ds\n",
        "\n",
        "for example in tfds.as_numpy(lav_msa_translation_dataset_fn(\"train\").take(5)):\n",
        "    print(example)"
      ],
      "execution_count": 24,
      "outputs": [
        {
          "output_type": "stream",
          "text": [
            "{'source': b'\\xd9\\x82\\xd9\\x84\\xd8\\xaa \\xd9\\x84\\xd9\\x87\\xd8\\xa7 \\xd9\\x85\\xd9\\x86\\xd8\\xb0 \\xd9\\x82\\xd9\\x84\\xd9\\x8a\\xd9\\x84: \\xd9\\x84\\xd8\\xa7 \\xd8\\xaa\\xd8\\xb9\\xd8\\xb7\\xd9\\x8a\\xd9\\x87\\xd8\\xa7 \\xd9\\x84\\xd8\\xa7\\xd8\\xad\\xd8\\xaf \\xd8\\xb9\\xd9\\x86\\xd8\\xaf\\xd9\\x85\\xd8\\xa7 \\xd8\\xa7\\xd8\\xad\\xd8\\xaa\\xd8\\xa7\\xd8\\xac\\xd9\\x87\\xd8\\xa7 \\xd8\\xa7\\xd8\\xb3\\xd8\\xaa\\xd8\\xb9\\xd9\\x85\\xd9\\x84\\xd9\\x87\\xd8\\xa7', 'target': b'\\xd9\\x82\\xd9\\x84\\xd8\\xaa\\xd9\\x84\\xd9\\x87\\xd8\\xa7 \\xd9\\x82\\xd8\\xa8\\xd9\\x84 \\xd8\\xb4\\xd9\\x88\\xd9\\x8a \\xd9\\x85\\xd8\\xa7 \\xd8\\xaa\\xd8\\xb9\\xd8\\xb7\\xd9\\x8a\\xd9\\x87 \\xd9\\x84\\xd8\\xad\\xd8\\xaf\\xd8\\xa7 \\xd9\\x84\\xd9\\x85\\xd8\\xa7 \\xd8\\xa7\\xd8\\xad\\xd8\\xaa\\xd8\\xa7\\xd8\\xac\\xd9\\x87\\xd8\\xa7 \\xd8\\xa8\\xd8\\xb7\\xd9\\x84\\xd8\\xb9\\xd9\\x87\\xd8\\xa7'}\n",
            "{'source': b' \\xd8\\xb9\\xd9\\x86\\xd8\\xaf\\xd9\\x85\\xd8\\xa7 \\xd9\\x8a\\xd9\\x83\\xd9\\x88\\xd9\\x86 \\xd8\\xa7\\xd9\\x84\\xd8\\xa7\\xd9\\x86\\xd8\\xb3\\xd8\\xa7\\xd9\\x86 \\xd9\\x85\\xd8\\xaa\\xd9\\x81\\xd8\\xb1\\xd8\\xba\\xd8\\xa7   ', 'target': b'\\xd9\\x84\\xd9\\x85\\xd8\\xa7 \\xd9\\x8a\\xd9\\x83\\xd9\\x88\\xd9\\x86 \\xd8\\xa7\\xd9\\x84\\xd8\\xb4\\xd8\\xae\\xd8\\xb5 \\xd9\\x81\\xd8\\xa7\\xd8\\xb6\\xd9\\x8a'}\n",
            "{'source': b'\\xd8\\xa7\\xd9\\x86\\xd8\\xa7 \\xd8\\xa7\\xd9\\x82\\xd9\\x88\\xd9\\x84 \\xd9\\x84\\xd9\\x87\\xd8\\xa7 \\xd8\\xb9\\xd8\\xa7\\xd8\\xa6\\xd8\\xb4\\xd8\\xa9 \\xd8\\xa7\\xd9\\x86\\xd8\\xa7 \\xd9\\x85\\xd8\\xb1\\xd9\\x8a\\xd8\\xb6\\xd8\\xa9 \\xd9\\x88 \\xd9\\x87\\xd9\\x8a \\xd8\\xaa\\xd9\\x82\\xd9\\x88\\xd9\\x84 \\xd8\\xa7\\xd8\\xb0\\xd9\\x87\\xd8\\xa8\\xd9\\x8a \\xd9\\x81\\xd8\\xad\\xd8\\xb3\\xd8\\xa8', 'target': b'\\xd8\\xa7\\xd9\\x86\\xd8\\xa7 \\xd8\\xa7\\xd9\\x82\\xd9\\x88\\xd9\\x84\\xd9\\x87\\xd8\\xa7 \\xd8\\xb9\\xd8\\xa7\\xd8\\xa6\\xd8\\xb4\\xd8\\xa9 \\xd8\\xa7\\xd9\\x86\\xd8\\xa7 \\xd8\\xb9\\xd9\\x8a\\xd8\\xa7\\xd9\\x86\\xd9\\x87 \\xd9\\x88 \\xd9\\x87\\xd9\\x8a \\xd8\\xaa\\xd9\\x82\\xd9\\x88\\xd9\\x84 \\xd8\\xb1\\xd9\\x88\\xd8\\xad\\xd9\\x8a \\xd9\\x88\\xd8\\xa8\\xd8\\xb3'}\n",
            "{'source': b'\\xd9\\x82\\xd9\\x84\\xd8\\xaa \\xd9\\x81\\xd9\\x8a \\xd8\\xa7\\xd9\\x84\\xd8\\xb3\\xd8\\xa7\\xd8\\xa8\\xd8\\xb9 \\xd9\\x8a\\xd8\\xa7 \\xd8\\xb2\\xd9\\x8a\\xd9\\x86\\xd8\\xa8', 'target': b'\\xd9\\x82\\xd9\\x84\\xd8\\xaa\\xd9\\x84\\xd9\\x83 \\xd8\\xa8\\xd8\\xa7\\xd9\\x84\\xd8\\xb3\\xd8\\xa7\\xd8\\xa8\\xd8\\xb9 \\xd9\\x8a\\xd8\\xa7 \\xd8\\xb2\\xd9\\x8a\\xd9\\x86\\xd8\\xa8'}\n",
            "{'source': b'\\xd9\\x88 \\xd9\\x87\\xd9\\x84 \\xd8\\xaa\\xd9\\x82\\xd8\\xaf\\xd9\\x85\\xd8\\xaa\\xd9\\x85 \\xd9\\x81\\xd9\\x8a \\xd8\\xa7\\xd9\\x84\\xd8\\xab\\xd9\\x84\\xd8\\xa7\\xd8\\xab\\xd9\\x8a \\xd8\\xa7\\xd9\\x84\\xd8\\xa7\\xd9\\x88\\xd9\\x84 \\xd8\\xa7\\xd9\\x85 \\xd9\\x84\\xd8\\xa7', 'target': b'\\xd9\\x88 \\xd8\\xa7\\xd9\\x86\\xd8\\xaa\\xd9\\x88 \\xd8\\xaa\\xd9\\x82\\xd8\\xaf\\xd9\\x85\\xd8\\xaa\\xd9\\x88\\xd8\\xa7 \\xd9\\x81\\xd9\\x8a \\xd8\\xa7\\xd9\\x84\\xd8\\xab\\xd9\\x84\\xd8\\xa7\\xd8\\xab\\xd9\\x8a \\xd8\\xa7\\xd9\\x84\\xd8\\xa7\\xd9\\x88\\xd9\\x84 \\xd9\\x88\\xd8\\xa7\\xd9\\x84\\xd8\\xa7 \\xd9\\x84\\xd8\\xa7'}\n"
          ],
          "name": "stdout"
        }
      ]
    },
    {
      "cell_type": "code",
      "metadata": {
        "colab_type": "code",
        "id": "fW9eNYoGagID",
        "colab": {}
      },
      "source": [
        "#turn the ds of dictionaries and change the keys to inputs and targets that the model\n",
        "def lav_msa_translation_preprocessor(ds):\n",
        "  def to_inputs_and_targets(ex):\n",
        "    return{\n",
        "        \"inputs\": tf.strings.join([\"translate Levantine to MSA: \",ex[\"source\"]]),\n",
        "        \"targets\": ex[\"target\"]\n",
        "    }\n",
        "  return ds.map(to_inputs_and_targets, num_parallel_calls=tf.data.experimental.AUTOTUNE)"
      ],
      "execution_count": 25,
      "outputs": []
    },
    {
      "cell_type": "code",
      "metadata": {
        "colab_type": "code",
        "id": "mDoUsP1AagIG",
        "colab": {}
      },
      "source": [
        "t5.data.TaskRegistry.remove(\"translation_lav_msa\")\n",
        "t5.data.TaskRegistry.add(\n",
        "    #name of the Task\n",
        "    \"translation_lav_msa\",\n",
        "    #Supply a function which returns a tf.data.Dataset\n",
        "    dataset_fn=lav_msa_translation_dataset_fn,\n",
        "    splits=[\"train\", \"validation\"],\n",
        "    # Supply a function which preprocesses text from the tf.data.Dataset.\n",
        "    text_preprocessor=[lav_msa_translation_preprocessor],\n",
        "    # Lowercase targets before computing metrics.\n",
        "    postprocess_fn = t5.data.postprocessors.lower_text, \n",
        "    # We'll use accuracy as our evaluation metric.\n",
        "    metric_fns=[t5.evaluation.metrics.bleu],\n",
        "    # Not required, but helps for mixing and auto-caching.\n",
        "    num_input_examples=lav_msa_example_count,\n",
        "    # output_features\n",
        "    output_features=t5.data.Feature(vocabulary=t5.data.SentencePieceVocabulary(filepath))\n",
        ")"
      ],
      "execution_count": 26,
      "outputs": []
    },
    {
      "cell_type": "markdown",
      "metadata": {
        "id": "7wIK8EWyaLFR",
        "colab_type": "text"
      },
      "source": [
        "###Maghrib to MSA Task"
      ]
    },
    {
      "cell_type": "code",
      "metadata": {
        "colab_type": "code",
        "id": "bVhYmQnQaj2K",
        "colab": {}
      },
      "source": [
        "mag_msa_split_csv_path = {\n",
        "    \"train\": \"data/train/train_mag_msa.csv\",\n",
        "    \"validation\": \"data/val/val_mag_msa.csv\"\n",
        "}\n",
        "mag_msa_example_count = {\n",
        "    \"train\": len(mag_msa_train),\n",
        "    \"validation\": len(mag_msa_val)\n",
        "}"
      ],
      "execution_count": 27,
      "outputs": []
    },
    {
      "cell_type": "code",
      "metadata": {
        "colab_type": "code",
        "id": "WBLF-J2Oaj2T",
        "colab": {
          "base_uri": "https://localhost:8080/",
          "height": 492
        },
        "outputId": "442abbba-7b04-4a8b-d47b-f69041aea4ee"
      },
      "source": [
        "def mag_msa_translation_dataset_fn(split, shuffle_files=False):\n",
        "  ds = tf.data.TextLineDataset(mag_msa_split_csv_path[split])\n",
        "  ds = ds.map(\n",
        "      functools.partial(tf.io.decode_csv, record_defaults=[\"\",\"\"],\n",
        "                        field_delim=\",\", use_quote_delim=False),\n",
        "      num_parallel_calls=tf.data.experimental.AUTOTUNE\n",
        "  )\n",
        "  ds = ds.map(lambda *example: dict(zip([\"source\", \"target\"], example)) )\n",
        "  return ds\n",
        "\n",
        "for example in tfds.as_numpy(mag_msa_translation_dataset_fn(\"train\").take(5)):\n",
        "    print(example)\n",
        "    print(example['source'].decode())\n",
        "    print(example['target'].decode())\n",
        "    print(len(example['source']))\n",
        "    print(len(example['target']))"
      ],
      "execution_count": 28,
      "outputs": [
        {
          "output_type": "stream",
          "text": [
            "{'source': b' \\xd9\\x84\\xd8\\xa7 \\xd8\\xa7\\xd8\\xb9\\xd9\\x84\\xd9\\x85 \\xd8\\xa7\\xd9\\x84\\xd8\\xa7\\xd9\\x86 \\xd9\\x87\\xd8\\xb0\\xd8\\xa7 \\xd8\\xa7\\xd9\\x84\\xd8\\xb7\\xd8\\xa8\\xd9\\x8a\\xd8\\xa8 \\xd8\\xa7\\xd8\\xb0\\xd9\\x87\\xd8\\xa8 \\xd8\\xa7\\xd9\\x84\\xd9\\x8a\\xd9\\x87 \\xd9\\x85\\xd8\\xa8\\xd8\\xa7\\xd8\\xb4\\xd8\\xb1\\xd8\\xa9 \\xd8\\xa7\\xd9\\x85 \\xd8\\xa7\\xd8\\xae\\xd8\\xaf \\xd9\\x85\\xd9\\x88\\xd8\\xb9\\xd8\\xaf\\xd8\\xa7 \\xd9\\x85\\xd8\\xb3\\xd8\\xa8\\xd9\\x82\\xd8\\xa7   ', 'target': b' \\xd9\\x85\\xd8\\xa7 \\xd8\\xb9\\xd9\\x84\\xd9\\x89 \\xd8\\xa8\\xd8\\xa7\\xd9\\x84\\xd9\\x8a \\xd8\\xaf\\xd8\\xb1\\xd9\\x83 \\xd8\\xa7\\xd9\\x84\\xd8\\xb7\\xd8\\xa8\\xd9\\x8a\\xd8\\xa8 \\xd9\\x87\\xd8\\xaf\\xd8\\xa7 \\xd9\\x84\\xd8\\xa7\\xd8\\xb2\\xd9\\x85 \\xd9\\x86\\xd8\\xb1\\xd9\\x88\\xd8\\xad \\xd9\\x84\\xd9\\x87 \\xd8\\xaf\\xd9\\x8a\\xd8\\xb1\\xd9\\x83\\xd8\\xaa \\xd9\\x88\\xd9\\x84\\xd8\\xa7 \\xd9\\x86\\xd8\\xaf\\xd9\\x8a  \\xd8\\xb1\\xd9\\x88\\xd9\\x86\\xd8\\xaf\\xd9\\x8a\\xda\\xa2\\xd9\\x88 \\xd9\\x82\\xd8\\xa8\\xd9\\x84 '}\n",
            " لا اعلم الان هذا الطبيب اذهب اليه مباشرة ام اخد موعدا مسبقا   \n",
            " ما على بالي درك الطبيب هدا لازم نروح له ديركت ولا ندي  رونديڢو قبل \n",
            "111\n",
            "120\n",
            "{'source': b'\\xd8\\xa7\\xd9\\x86\\xd8\\xaa', 'target': b'\\xd8\\xa7\\xd9\\x86\\xd8\\xaa'}\n",
            "انت\n",
            "انت\n",
            "6\n",
            "6\n",
            "{'source': b'\\xd8\\xa7\\xd9\\x82\\xd8\\xaa\\xd8\\xb1\\xd8\\xad \\xd8\\xb9\\xd9\\x84\\xd9\\x8a \\xd8\\xa7\\xd8\\xa8\\xd9\\x86 \\xd8\\xb9\\xd9\\x85\\xd9\\x8a \\xd8\\xa7\\xd9\\x86 \\xef\\xba\\x83\\xd8\\xb4\\xd8\\xaa\\xd8\\xb1\\xd9\\x8a \\xd9\\x84\\xd9\\x87 \\xd9\\x85\\xd8\\xb5\\xd8\\xad\\xd9\\x81\\xd8\\xa7 \\xd8\\xa7\\xd9\\x88 \\xd9\\x83\\xd8\\xaa\\xd8\\xa7\\xd8\\xa8\\xd8\\xa7 \\xd9\\x8a\\xd8\\xaa\\xd8\\xad\\xd8\\xaf\\xd8\\xab \\xd8\\xb9\\xd9\\x86 \\xd8\\xa7\\xd9\\x84\\xd8\\xa7\\xd8\\xb3\\xd9\\x84\\xd8\\xa7\\xd9\\x85', 'target': b'\\xda\\xad\\xd8\\xa7\\xd9\\x84 \\xd9\\x84\\xd9\\x8a \\xd9\\x88\\xd9\\x84\\xd8\\xaf \\xd8\\xb9\\xd9\\x85\\xd9\\x8a \\xd9\\x86\\xd8\\xb4\\xd8\\xb1\\xd9\\x8a \\xd9\\x84\\xd9\\x8a\\xd9\\x87 \\xd9\\x85\\xd8\\xb5\\xd8\\xad\\xd9\\x81 \\xd9\\x88\\xd9\\x84\\xd8\\xa7 \\xd9\\x83\\xd8\\xaa\\xd8\\xa7\\xd8\\xa8 \\xd8\\xaf\\xd9\\x8a\\xd8\\xa7\\xd9\\x84 \\xd8\\xa7\\xd9\\x84\\xd8\\xaf\\xd9\\x8a\\xd9\\x86'}\n",
            "اقترح علي ابن عمي ان ﺃشتري له مصحفا او كتابا يتحدث عن الاسلام\n",
            "ڭال لي ولد عمي نشري ليه مصحف ولا كتاب ديال الدين\n",
            "111\n",
            "86\n",
            "{'source': b' \\xd8\\xb5\\xd8\\xb1\\xd8\\xa7\\xd8\\xad\\xd8\\xa9 \\xd8\\xa7\\xd9\\x86\\xd8\\xa7 \\xd9\\x84\\xd9\\x85 \\xd8\\xa7\\xd9\\x81\\xd8\\xb9\\xd9\\x84 \\xd8\\xb0\\xd8\\xa7\\xd9\\x83 \\xd8\\xb9\\xd9\\x86 \\xd9\\x82\\xd8\\xb5\\xd8\\xaf   ', 'target': b'\\xd8\\xa8\\xd8\\xb5\\xd8\\xb1\\xd8\\xa7\\xd8\\xad\\xd8\\xa9 \\xd9\\x85\\xd8\\xb9\\xd9\\x85\\xd9\\x84\\xd8\\xaa\\xd8\\xb4 \\xd9\\x87\\xd9\\x83\\xd9\\x83 \\xd8\\xa8\\xd8\\xa7\\xd9\\x84\\xd8\\xb9\\xd8\\xa7\\xd9\\x86\\xd9\\x8a'}\n",
            " صراحة انا لم افعل ذاك عن قصد   \n",
            "بصراحة معملتش هكك بالعاني\n",
            "54\n",
            "47\n",
            "{'source': b' \\xd9\\x87\\xd8\\xb0\\xd8\\xa7 \\xd8\\xa7\\xd9\\x84\\xd8\\xab\\xd8\\xa7\\xd9\\x84\\xd8\\xab \\xd8\\xa7\\xd9\\x84\\xd8\\xb1\\xd8\\xa7\\xd8\\xa8\\xd8\\xb9 \\xd8\\xaf\\xd8\\xae\\xd9\\x84\\xd8\\xaa \\xd8\\xa7\\xd9\\x84\\xd9\\x89 \\xd9\\x85\\xd9\\x83\\xd8\\xaa\\xd8\\xa8\\xd9\\x87   ', 'target': b' \\xd9\\x87\\xd8\\xaf\\xd8\\xa7 \\xd8\\xa7\\xd9\\x84\\xd8\\xaa\\xd8\\xa7\\xd9\\x84\\xd8\\xaa \\xd8\\xa7\\xd9\\x84\\xd8\\xb1\\xd8\\xa7\\xd8\\xa8\\xd8\\xb9 \\xd8\\xaf\\xd8\\xae\\xd9\\x84\\xd8\\xaa \\xd9\\x84\\xd9\\x87 \\xd9\\x84\\xd9\\x84\\xd8\\xa8\\xd9\\x8a\\xd8\\xb1\\xd9\\x88 \\xd8\\xaa\\xd8\\xa7\\xd8\\xb9\\xd9\\x87 '}\n",
            " هذا الثالث الرابع دخلت الى مكتبه   \n",
            " هدا التالت الرابع دخلت له للبيرو تاعه \n",
            "63\n",
            "70\n"
          ],
          "name": "stdout"
        }
      ]
    },
    {
      "cell_type": "code",
      "metadata": {
        "colab_type": "code",
        "id": "GgyqkGfYaj2Y",
        "colab": {}
      },
      "source": [
        "  #turn the ds of dictionaries and change the keys to inputs and targets that the model\n",
        "def mag_msa_translation_preprocessor(ds):\n",
        "    def to_inputs_and_targets(ex):\n",
        "      return{\n",
        "          \"inputs\": tf.strings.join([\"translate Maghrib to MSA: \",ex[\"source\"]]),\n",
        "          \"targets\": ex[\"target\"]\n",
        "      }\n",
        "    return ds.map(to_inputs_and_targets, num_parallel_calls=tf.data.experimental.AUTOTUNE)"
      ],
      "execution_count": 29,
      "outputs": []
    },
    {
      "cell_type": "code",
      "metadata": {
        "colab_type": "code",
        "id": "bmja1M2Eaj2f",
        "colab": {}
      },
      "source": [
        "t5.data.TaskRegistry.remove(\"translation_mag_msa\")\n",
        "t5.data.TaskRegistry.add(\n",
        "    #name of the Task\n",
        "    \"translation_mag_msa\",\n",
        "    #Supply a function which returns a tf.data.Dataset\n",
        "    dataset_fn=mag_msa_translation_dataset_fn,\n",
        "    splits=[\"train\", \"validation\"],\n",
        "    # Supply a function which preprocesses text from the tf.data.Dataset.\n",
        "    text_preprocessor=[mag_msa_translation_preprocessor],\n",
        "    # Lowercase targets before computing metrics.\n",
        "    postprocess_fn = t5.data.postprocessors.lower_text, \n",
        "    # We'll use accuracy as our evaluation metric.\n",
        "    metric_fns=[t5.evaluation.metrics.bleu],\n",
        "    # Not required, but helps for mixing and auto-caching.\n",
        "    num_input_examples=mag_msa_example_count,\n",
        "    # output_features\n",
        "    output_features=t5.data.Feature(vocabulary=t5.data.SentencePieceVocabulary(filepath))\n",
        ")"
      ],
      "execution_count": 30,
      "outputs": []
    },
    {
      "cell_type": "markdown",
      "metadata": {
        "id": "DLoe7vbFV42o",
        "colab_type": "text"
      },
      "source": [
        "##Dataset Mixture"
      ]
    },
    {
      "cell_type": "code",
      "metadata": {
        "id": "AWMTtMsXWAua",
        "colab_type": "code",
        "colab": {}
      },
      "source": [
        "t5.data.MixtureRegistry.remove(\"translation_msa\")\n",
        "t5.data.MixtureRegistry.add(\n",
        "    \"translation_msa\",\n",
        "    [\"translation_en_msa\", \"translation_lav_msa\", \"translation_mag_msa\"],\n",
        "     default_rate=1.0\n",
        ")"
      ],
      "execution_count": 31,
      "outputs": []
    },
    {
      "cell_type": "markdown",
      "metadata": {
        "id": "fc0bSgP1WenA",
        "colab_type": "text"
      },
      "source": [
        "##Pre-Training"
      ]
    },
    {
      "cell_type": "code",
      "metadata": {
        "id": "Tw146D5HkkPi",
        "colab_type": "code",
        "colab": {
          "base_uri": "https://localhost:8080/",
          "height": 217
        },
        "outputId": "a8695840-be73-4282-d430-1b64b66f45e6"
      },
      "source": [
        "#gotta get the base config and add the new tasks' task params\n",
        "!wget \"https://s3.amazonaws.com/models.huggingface.co/bert/t5-base-config.json\" -O data/config/t5-base-config.json"
      ],
      "execution_count": 32,
      "outputs": [
        {
          "output_type": "stream",
          "text": [
            "--2020-06-22 03:06:32--  https://s3.amazonaws.com/models.huggingface.co/bert/t5-base-config.json\n",
            "Resolving s3.amazonaws.com (s3.amazonaws.com)... 52.217.18.6\n",
            "Connecting to s3.amazonaws.com (s3.amazonaws.com)|52.217.18.6|:443... connected.\n",
            "HTTP request sent, awaiting response... 200 OK\n",
            "Length: 1199 (1.2K) [application/json]\n",
            "Saving to: ‘data/config/t5-base-config.json’\n",
            "\n",
            "\r          data/conf   0%[                    ]       0  --.-KB/s               \rdata/config/t5-base 100%[===================>]   1.17K  --.-KB/s    in 0s      \n",
            "\n",
            "2020-06-22 03:06:33 (64.0 MB/s) - ‘data/config/t5-base-config.json’ saved [1199/1199]\n",
            "\n"
          ],
          "name": "stdout"
        }
      ]
    },
    {
      "cell_type": "code",
      "metadata": {
        "id": "9uP2fwStXK5b",
        "colab_type": "code",
        "colab": {}
      },
      "source": [
        "if torch.cuda.is_available():\n",
        "    device = torch.device(\"cuda\")\n",
        "else:\n",
        "    device = torch.device(\"cpu\")\n",
        "\n",
        "#Using the base config from Huggingface T5 Model\n",
        "config = transformers.T5Config.from_json_file(json_file=\"data/config/t5-base-config.json\")\n",
        "model = t5.models.HfPyTorchModel(config, \"/tmp/hft5/\", device)"
      ],
      "execution_count": 33,
      "outputs": []
    },
    {
      "cell_type": "code",
      "metadata": {
        "id": "M23Y4l0tb4qM",
        "colab_type": "code",
        "colab": {
          "base_uri": "https://localhost:8080/",
          "height": 35
        },
        "outputId": "c3dc365a-018b-484d-9c9a-ae88707a5e6c"
      },
      "source": [
        "ls /tmp/hft5"
      ],
      "execution_count": 34,
      "outputs": [
        {
          "output_type": "stream",
          "text": [
            "events.out.tfevents.1592795201.1978a2c727cd.137.0\n"
          ],
          "name": "stdout"
        }
      ]
    },
    {
      "cell_type": "code",
      "metadata": {
        "id": "VV2RSZGxQxYT",
        "colab_type": "code",
        "colab": {}
      },
      "source": [
        "# !wget --no-check-certificate 'https://docs.google.com/uc?export=download&id=1fEVj9jCxvcKn9zg8lO43i2sWZquegg5H' -O data/operative_config.gin"
      ],
      "execution_count": 35,
      "outputs": []
    },
    {
      "cell_type": "code",
      "metadata": {
        "id": "q4ZqkAzufRI9",
        "colab_type": "code",
        "colab": {}
      },
      "source": [
        "import gin\n",
        "with gin.unlock_config():\n",
        "  gin.parse_config_file(\"data/operative_config.gin\")"
      ],
      "execution_count": 36,
      "outputs": []
    },
    {
      "cell_type": "code",
      "metadata": {
        "id": "f6f5uUWXWUKw",
        "colab_type": "code",
        "colab": {
          "base_uri": "https://localhost:8080/",
          "height": 126
        },
        "outputId": "394eddea-81de-4322-b939-d75eb148565f"
      },
      "source": [
        "STEPS = 10000 #@param {type: \"integer\"}\n",
        "model.train(\n",
        "    mixture_or_task_name=\"translation_msa\",\n",
        "    steps=STEPS,\n",
        "    save_steps=STEPS/5,                                                   \n",
        "    sequence_length={\"inputs\": 32, \"targets\": 32},\n",
        "    split=\"train\",\n",
        "    batch_size=32,\n",
        "    optimizer=functools.partial(transformers.AdamW, lr=1e-4),\n",
        ")"
      ],
      "execution_count": 37,
      "outputs": [
        {
          "output_type": "stream",
          "text": [
            "INFO:absl:Saving checkpoint for step 0\n",
            "INFO:absl:Saving checkpoint for step 2000\n",
            "INFO:absl:Saving checkpoint for step 4000\n",
            "INFO:absl:Saving checkpoint for step 6000\n",
            "INFO:absl:Saving checkpoint for step 8000\n",
            "INFO:absl:Saving final checkpoint for step 10000\n"
          ],
          "name": "stderr"
        }
      ]
    },
    {
      "cell_type": "markdown",
      "metadata": {
        "id": "Ev_E4ZadXxmj",
        "colab_type": "text"
      },
      "source": [
        "##Evaluation"
      ]
    },
    {
      "cell_type": "code",
      "metadata": {
        "id": "bjZnTOIrYEh4",
        "colab_type": "code",
        "colab": {
          "base_uri": "https://localhost:8080/",
          "height": 90
        },
        "outputId": "db295a25-5432-4ea2-b8ab-628ee60389a8"
      },
      "source": [
        "# Evaluate after fine-tuning\n",
        "model.eval(\n",
        "    \"translation_msa\",\n",
        "    checkpoint_steps=STEPS,\n",
        "    sequence_length={\"inputs\": 32, \"targets\": 32},\n",
        "    batch_size=32,\n",
        ")"
      ],
      "execution_count": 38,
      "outputs": [
        {
          "output_type": "stream",
          "text": [
            "INFO:absl:Loading from /tmp/hft5/model-10000.checkpoint\n",
            "INFO:absl:eval/translation_en_msa/bleu at step 10000: 9.195\n",
            "INFO:absl:eval/translation_lav_msa/bleu at step 10000: 2.157\n",
            "INFO:absl:eval/translation_mag_msa/bleu at step 10000: 1.149\n"
          ],
          "name": "stderr"
        }
      ]
    },
    {
      "cell_type": "markdown",
      "metadata": {
        "id": "XF-3_4u1X-5r",
        "colab_type": "text"
      },
      "source": [
        "##Predictions"
      ]
    },
    {
      "cell_type": "code",
      "metadata": {
        "id": "UL5yLXs4YJw7",
        "colab_type": "code",
        "colab": {
          "base_uri": "https://localhost:8080/",
          "height": 90
        },
        "outputId": "9e6c1a5d-aa94-40b0-c581-e1eda6a98d96"
      },
      "source": [
        "inputs = [\n",
        "    \"translate English to MSA: Tom was also there.\",\n",
        "    \"translate English to MSA: Please send us more information\",\n",
        "]\n",
        "model.predict(\n",
        "    inputs,\n",
        "    sequence_length={\"inputs\": 32},\n",
        "    batch_size=2,\n",
        "    output_file=\"/tmp/hft5/example_predictions.txt\",\n",
        ")"
      ],
      "execution_count": 39,
      "outputs": [
        {
          "output_type": "stream",
          "text": [
            "INFO:absl:translate English to MSA: Tom was also there.\n",
            "  -> . ⁇  “ “ “ “ “ “ “ “ “ “ “ “ “ “ “ “ “\n",
            "INFO:absl:translate English to MSA: Please send us more information\n",
            "  -> b dieishe toce youhehehehe\"\"\"\"\"\"\"\"\n"
          ],
          "name": "stderr"
        }
      ]
    }
  ]
}